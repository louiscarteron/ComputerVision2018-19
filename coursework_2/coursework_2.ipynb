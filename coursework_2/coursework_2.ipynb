{
 "cells": [
  {
   "cell_type": "markdown",
   "metadata": {},
   "source": [
    "# Coursework 2: Neural Networks \n",
    "\n",
    "This coursework covers the topics covered in class regarding neural networks for image classification.\n",
    "\n",
    "This coursework includes both coding questions as well as written ones. Please upload the notebook, which contains your code, results and answers as a pdf file onto Cate.\n",
    "\n",
    "Dependencies: If you work on a college computer in the Computing Lab, where Ubuntu 18.04 is installed by default, you can use the following virtual environment for your work, where relevant Python packages are already installed.\n",
    "\n",
    "`source /vol/bitbucket/wbai/virt/computer_vision_ubuntu18.04/bin/activate`\n",
    "\n",
    "Alternatively, you can use pip, pip3 or anaconda etc to install Python packages.\n",
    "\n",
    "**Note 1:** please read the both the text and code comment in this notebook to get an idea what you are supposed to implement.\n",
    "\n",
    "**Note 2:** If you are using the virtual environment in the Computing Lab, please run the following command in the command line before opening jupyter-notebook and importing tensorflow. This will tell tensorflow where the Nvidia CUDA libariries are.\n",
    "\n",
    "`export LD_LIBRARY_PATH=/vol/cuda/9.0.176/lib64/:\"${LD_LIBRARY_PATH}}\"` "
   ]
  },
  {
   "cell_type": "code",
   "execution_count": 1,
   "metadata": {},
   "outputs": [
    {
     "name": "stderr",
     "output_type": "stream",
     "text": [
      "Using TensorFlow backend.\n"
     ]
    }
   ],
   "source": [
    "# Import libraries\n",
    "import numpy as np \n",
    "import matplotlib.pyplot as plt\n",
    "%matplotlib inline\n",
    "import tensorflow as tf \n",
    "import keras\n",
    "from keras.models import Sequential\n",
    "from keras.layers import Dense, Dropout, Activation \n",
    "import collections\n",
    "import itertools\n",
    "from PIL import Image"
   ]
  },
  {
   "cell_type": "markdown",
   "metadata": {},
   "source": [
    "## Question 1 (20 points)\n",
    "\n",
    "Throughout this coursework you will be working with the Fashion-MNIST dataset. If you are interested, you may find relevant information regarding the dataset in this paper.\n",
    "\n",
    "[1] Fashion-MNIST: A novel image dataset for benchmarking machine learning algorithms. Han Xiao, Kashif Rasul, Roland Vollgraf. [arXiv:1708.07747](https://arxiv.org/abs/1708.07747)\n",
    "\n",
    "Be sure that you have the following files in your working directory: data.tar.gz and reader.py. Loading the data can be done as follows:\n",
    "\n",
    "`from reader import get_images\n",
    "(x_train, y_train), (x_test, y_test) = get_images()`\n",
    "\n",
    "The dataset is already split into a set of 60,000 training images and a set of 10,000 test images. The images are of size 28x28 pixels and stored as 784-D vector. So if you would like to visualise the images, you need to reshape the array.\n",
    "\n",
    "There are in total 10 label classes, which are:\n",
    "* 0: T-shirt/top\n",
    "* 1: Trousers\n",
    "* 2: Pullover\n",
    "* 3: Dress\n",
    "* 4: Coat\n",
    "* 5: Sandal\n",
    "* 6: Shirt\n",
    "* 7: Sneaker\n",
    "* 8: Bag\n",
    "* 9: Ankle boot"
   ]
  },
  {
   "cell_type": "markdown",
   "metadata": {},
   "source": [
    "### 1.1 Load data (6 points)\n",
    "Load the dataset and print the dimensions of the training set and the test set."
   ]
  },
  {
   "cell_type": "code",
   "execution_count": 2,
   "metadata": {},
   "outputs": [
    {
     "name": "stdout",
     "output_type": "stream",
     "text": [
      "Dimensions of the training set is (60000, 784) with 60000 labels\n",
      "Dimensions of the test set is (10000, 784) with 10000 labels\n"
     ]
    }
   ],
   "source": [
    "from reader import get_images\n",
    "(x_train, y_train), (x_test, y_test) = get_images()\n",
    "x_train = x_train / 255\n",
    "x_test = x_test / 255\n",
    "print (\"Dimensions of the training set is %s with %s labels\" % (str(x_train.shape), str(y_train.shape[0])))\n",
    "print (\"Dimensions of the test set is %s with %s labels\" % (str(x_test.shape), str(y_test.shape[0])))"
   ]
  },
  {
   "cell_type": "markdown",
   "metadata": {},
   "source": [
    "### 1.2 Visualize data (6 points)\n",
    "Visualise 3 training images (T-shirt, trousers and pullover) and 3 test images (dress, coat and sandal)."
   ]
  },
  {
   "cell_type": "code",
   "execution_count": 3,
   "metadata": {},
   "outputs": [
    {
     "data": {
      "image/png": "[encoded data removed]",
      "text/plain": [
       "<Figure size 576x576 with 6 Axes>"
      ]
     },
     "metadata": {
      "needs_background": "light"
     },
     "output_type": "display_data"
    }
   ],
   "source": [
    "labels = {0 : \"T-shirt/top\", 1: \"Trouser\", 2: \"Pullover\", 3: \"Dress\", 4: \"Coat\",\n",
    "          5: \"Sandal\", 6: \"Shirt\", 7: \"Sneaker\", 8: \"Bag\", 9: \"Ankle Boot\"}\n",
    "\n",
    "# https://www.kaggle.com/gpreda/cnn-with-tensorflow-keras-for-fashion-mnist#\n",
    "\n",
    "f, ax = plt.subplots(2, 3, figsize=(8, 8))\n",
    "# 1, 5, 16 for train\n",
    "# 6, 8, 13 for test\n",
    "train_index = set([1, 5, 16])\n",
    "test_index = set([6, 8, 13])\n",
    "ite = set([0, 1, 2])\n",
    "for i, j, k in zip(ite, train_index, test_index):\n",
    "    ax[0, i].imshow(x_train[j].reshape(28, 28), cmap=\"Blues\")\n",
    "    ax[0, i].axis('off')\n",
    "    ax[0, i].set_title(labels[y_train[j]])\n",
    "    \n",
    "    ax[1, i].imshow(x_test[k].reshape(28, 28), cmap=\"Greens\")\n",
    "    ax[1, i].axis('off')\n",
    "    ax[1, i].set_title(labels[y_test[k]])\n",
    "    \n",
    "plt.show()"
   ]
  },
  {
   "cell_type": "markdown",
   "metadata": {},
   "source": [
    "### 1.3 Data balance (4 points)\n",
    "Print out the number of training samples for each class."
   ]
  },
  {
   "cell_type": "code",
   "execution_count": 4,
   "metadata": {},
   "outputs": [
    {
     "name": "stdout",
     "output_type": "stream",
     "text": [
      "Ankle Boot          :   6000 or 10.0%\n",
      "T-shirt/top         :   6000 or 10.0%\n",
      "Dress               :   6000 or 10.0%\n",
      "Pullover            :   6000 or 10.0%\n",
      "Sneaker             :   6000 or 10.0%\n",
      "Sandal              :   6000 or 10.0%\n",
      "Trouser             :   6000 or 10.0%\n",
      "Shirt               :   6000 or 10.0%\n",
      "Coat                :   6000 or 10.0%\n",
      "Bag                 :   6000 or 10.0%\n"
     ]
    }
   ],
   "source": [
    "labels = {0 : \"T-shirt/top\", 1: \"Trouser\", 2: \"Pullover\", 3: \"Dress\", 4: \"Coat\",\n",
    "          5: \"Sandal\", 6: \"Shirt\", 7: \"Sneaker\", 8: \"Bag\", 9: \"Ankle Boot\"}\n",
    "\n",
    "def get_classes_distribution(data):\n",
    "    # Get the count for each label\n",
    "    label_counts = collections.Counter(data)\n",
    "\n",
    "    # Get total number of samples\n",
    "    total_samples = len(data)\n",
    "    \n",
    "    samp_values = list(label_counts.values())\n",
    "    samp_keys = list(label_counts.keys())\n",
    "\n",
    "    # Count the number of items in each class\n",
    "    for i in range(len(label_counts)):\n",
    "        label = labels[samp_keys[i]]\n",
    "        count = samp_values[i]\n",
    "        percent = (count / total_samples) * 100\n",
    "        print(\"{:<20s}:   {} or {}%\".format(label, count, percent))\n",
    "\n",
    "get_classes_distribution(y_train)"
   ]
  },
  {
   "cell_type": "markdown",
   "metadata": {},
   "source": [
    "### 1.4 Discussion (4 points)\n",
    "Is the dataset balanced? What would happen if the dataset is not balanced in the context of image classification? "
   ]
  },
  {
   "cell_type": "markdown",
   "metadata": {},
   "source": [
    "The dataset is balanced, as each category is represented by 10%. If the dataset is not balanced, then the set will be biased towards a certain image classification. This would mean that it would favor the output of a certain label."
   ]
  },
  {
   "cell_type": "markdown",
   "metadata": {},
   "source": [
    "## Question 2 (40 points)\n",
    "\n",
    "Build a neural network and train it with the Fashion-MNIST dataset. Here, we use the keras library, which is a high-level neural network library built upon tensorflow."
   ]
  },
  {
   "cell_type": "code",
   "execution_count": 5,
   "metadata": {},
   "outputs": [],
   "source": [
    "# Convert the label class into a one-hot representation\n",
    "# 10 for the number of labels.\n",
    "num_classes = 10\n",
    "y_train = keras.utils.to_categorical(y_train, num_classes)\n",
    "y_test = keras.utils.to_categorical(y_test, num_classes)"
   ]
  },
  {
   "cell_type": "markdown",
   "metadata": {},
   "source": [
    "### 2.1 Build a multi-layer perceptron, also known as multi-layer fully connected network. You need to define the layers, the loss function, the optimiser and evaluation metric. (30 points)"
   ]
  },
  {
   "cell_type": "code",
   "execution_count": 6,
   "metadata": {},
   "outputs": [
    {
     "name": "stdout",
     "output_type": "stream",
     "text": [
      "_________________________________________________________________\n",
      "Layer (type)                 Output Shape              Param #   \n",
      "=================================================================\n",
      "dense_1 (Dense)              (None, 1000)              785000    \n",
      "_________________________________________________________________\n",
      "dropout_1 (Dropout)          (None, 1000)              0         \n",
      "_________________________________________________________________\n",
      "dense_2 (Dense)              (None, 10)                10010     \n",
      "=================================================================\n",
      "Total params: 795,010\n",
      "Trainable params: 795,010\n",
      "Non-trainable params: 0\n",
      "_________________________________________________________________\n",
      "None\n"
     ]
    }
   ],
   "source": [
    "model = keras.models.Sequential()\n",
    "\n",
    "model.add(Dense(1000, input_dim=784, activation='relu'))\n",
    "model.add(Dropout(0.50))\n",
    "model.add(Dense(10, activation='softmax'))\n",
    "\n",
    "model.compile(loss=keras.losses.categorical_crossentropy,\n",
    "              optimizer='adam',\n",
    "              metrics=['accuracy'])\n",
    "print(model.summary())"
   ]
  },
  {
   "cell_type": "markdown",
   "metadata": {},
   "source": [
    "### 2.2 Define the optimisation parameters including the batch size and the number of epochs and then run the optimiser. (10 points)\n",
    "\n",
    "We have tested that for an appropriate network architecture, on a personal laptop and with only CPU, it takes about a few seconds per epoch to train the network. For 100 epochs, it takes about a coffee break's time to finish the training. If you run it on a powerful GPU, it would be even much faster."
   ]
  },
  {
   "cell_type": "code",
   "execution_count": 7,
   "metadata": {
    "scrolled": true
   },
   "outputs": [
    {
     "name": "stdout",
     "output_type": "stream",
     "text": [
      "Epoch 1/200\n",
      "60000/60000 [==============================] - 3s 42us/step - loss: 0.7199 - acc: 0.7476\n",
      "Epoch 2/200\n",
      "60000/60000 [==============================] - 2s 36us/step - loss: 0.4653 - acc: 0.8373\n",
      "Epoch 3/200\n",
      "60000/60000 [==============================] - 2s 36us/step - loss: 0.4168 - acc: 0.8533\n",
      "Epoch 4/200\n",
      "60000/60000 [==============================] - 2s 34us/step - loss: 0.3865 - acc: 0.8648\n",
      "Epoch 5/200\n",
      "60000/60000 [==============================] - 2s 35us/step - loss: 0.3647 - acc: 0.8695\n",
      "Epoch 6/200\n",
      "60000/60000 [==============================] - 2s 34us/step - loss: 0.3491 - acc: 0.8750\n",
      "Epoch 7/200\n",
      "60000/60000 [==============================] - 2s 35us/step - loss: 0.3375 - acc: 0.8778\n",
      "Epoch 8/200\n",
      "60000/60000 [==============================] - 2s 35us/step - loss: 0.3241 - acc: 0.8832\n",
      "Epoch 9/200\n",
      "60000/60000 [==============================] - 2s 35us/step - loss: 0.3182 - acc: 0.8855\n",
      "Epoch 10/200\n",
      "60000/60000 [==============================] - 2s 34us/step - loss: 0.3127 - acc: 0.8873\n",
      "Epoch 11/200\n",
      "60000/60000 [==============================] - 2s 34us/step - loss: 0.3012 - acc: 0.8910\n",
      "Epoch 12/200\n",
      "60000/60000 [==============================] - 2s 34us/step - loss: 0.2929 - acc: 0.8933\n",
      "Epoch 13/200\n",
      "60000/60000 [==============================] - 2s 34us/step - loss: 0.2885 - acc: 0.8953\n",
      "Epoch 14/200\n",
      "60000/60000 [==============================] - 2s 35us/step - loss: 0.2844 - acc: 0.8964\n",
      "Epoch 15/200\n",
      "60000/60000 [==============================] - 2s 34us/step - loss: 0.2804 - acc: 0.8971\n",
      "Epoch 16/200\n",
      "60000/60000 [==============================] - 2s 34us/step - loss: 0.2763 - acc: 0.8986\n",
      "Epoch 17/200\n",
      "60000/60000 [==============================] - 2s 36us/step - loss: 0.2686 - acc: 0.9021\n",
      "Epoch 18/200\n",
      "60000/60000 [==============================] - 2s 34us/step - loss: 0.2655 - acc: 0.9011\n",
      "Epoch 19/200\n",
      "60000/60000 [==============================] - 2s 35us/step - loss: 0.2626 - acc: 0.9045\n",
      "Epoch 20/200\n",
      "60000/60000 [==============================] - 2s 35us/step - loss: 0.2579 - acc: 0.9056\n",
      "Epoch 21/200\n",
      "60000/60000 [==============================] - 2s 35us/step - loss: 0.2508 - acc: 0.9074\n",
      "Epoch 22/200\n",
      "60000/60000 [==============================] - 2s 35us/step - loss: 0.2497 - acc: 0.9083\n",
      "Epoch 23/200\n",
      "60000/60000 [==============================] - 2s 35us/step - loss: 0.2454 - acc: 0.9094\n",
      "Epoch 24/200\n",
      "60000/60000 [==============================] - 2s 35us/step - loss: 0.2440 - acc: 0.9107\n",
      "Epoch 25/200\n",
      "60000/60000 [==============================] - 2s 34us/step - loss: 0.2433 - acc: 0.9109\n",
      "Epoch 26/200\n",
      "60000/60000 [==============================] - 2s 34us/step - loss: 0.2382 - acc: 0.9121\n",
      "Epoch 27/200\n",
      "60000/60000 [==============================] - 2s 34us/step - loss: 0.2333 - acc: 0.9133\n",
      "Epoch 28/200\n",
      "60000/60000 [==============================] - 2s 34us/step - loss: 0.2281 - acc: 0.9156\n",
      "Epoch 29/200\n",
      "60000/60000 [==============================] - 2s 34us/step - loss: 0.2276 - acc: 0.9147\n",
      "Epoch 30/200\n",
      "60000/60000 [==============================] - 2s 34us/step - loss: 0.2262 - acc: 0.9163\n",
      "Epoch 31/200\n",
      "60000/60000 [==============================] - 2s 34us/step - loss: 0.2234 - acc: 0.9176\n",
      "Epoch 32/200\n",
      "60000/60000 [==============================] - 2s 36us/step - loss: 0.2215 - acc: 0.9172\n",
      "Epoch 33/200\n",
      "60000/60000 [==============================] - 2s 34us/step - loss: 0.2153 - acc: 0.9204\n",
      "Epoch 34/200\n",
      "60000/60000 [==============================] - 2s 34us/step - loss: 0.2170 - acc: 0.9190\n",
      "Epoch 35/200\n",
      "60000/60000 [==============================] - 2s 34us/step - loss: 0.2143 - acc: 0.9212\n",
      "Epoch 36/200\n",
      "60000/60000 [==============================] - 2s 35us/step - loss: 0.2095 - acc: 0.9220\n",
      "Epoch 37/200\n",
      "60000/60000 [==============================] - 2s 35us/step - loss: 0.2080 - acc: 0.9225\n",
      "Epoch 38/200\n",
      "60000/60000 [==============================] - 2s 34us/step - loss: 0.2079 - acc: 0.9225\n",
      "Epoch 39/200\n",
      "60000/60000 [==============================] - 2s 34us/step - loss: 0.2047 - acc: 0.9243\n",
      "Epoch 40/200\n",
      "60000/60000 [==============================] - 2s 34us/step - loss: 0.2026 - acc: 0.9251\n",
      "Epoch 41/200\n",
      "60000/60000 [==============================] - 2s 34us/step - loss: 0.1999 - acc: 0.9256\n",
      "Epoch 42/200\n",
      "60000/60000 [==============================] - 2s 34us/step - loss: 0.1977 - acc: 0.9255\n",
      "Epoch 43/200\n",
      "60000/60000 [==============================] - 2s 35us/step - loss: 0.1939 - acc: 0.9277\n",
      "Epoch 44/200\n",
      "60000/60000 [==============================] - 2s 34us/step - loss: 0.1961 - acc: 0.9275\n",
      "Epoch 45/200\n",
      "60000/60000 [==============================] - 2s 34us/step - loss: 0.1936 - acc: 0.9278\n",
      "Epoch 46/200\n",
      "60000/60000 [==============================] - 2s 34us/step - loss: 0.1937 - acc: 0.9278\n",
      "Epoch 47/200\n",
      "60000/60000 [==============================] - 2s 34us/step - loss: 0.1861 - acc: 0.9301\n",
      "Epoch 48/200\n",
      "60000/60000 [==============================] - 2s 34us/step - loss: 0.1890 - acc: 0.9293\n",
      "Epoch 49/200\n",
      "60000/60000 [==============================] - 2s 34us/step - loss: 0.1864 - acc: 0.9297\n",
      "Epoch 50/200\n",
      "60000/60000 [==============================] - 2s 35us/step - loss: 0.1811 - acc: 0.9327\n",
      "Epoch 51/200\n",
      "60000/60000 [==============================] - 2s 34us/step - loss: 0.1812 - acc: 0.9323\n",
      "Epoch 52/200\n",
      "60000/60000 [==============================] - 2s 35us/step - loss: 0.1834 - acc: 0.9313\n",
      "Epoch 53/200\n",
      "60000/60000 [==============================] - 2s 35us/step - loss: 0.1781 - acc: 0.9342\n",
      "Epoch 54/200\n",
      "60000/60000 [==============================] - 2s 36us/step - loss: 0.1765 - acc: 0.9337\n",
      "Epoch 55/200\n",
      "60000/60000 [==============================] - 2s 35us/step - loss: 0.1755 - acc: 0.9350\n",
      "Epoch 56/200\n",
      "60000/60000 [==============================] - 2s 34us/step - loss: 0.1707 - acc: 0.9368\n",
      "Epoch 57/200\n",
      "60000/60000 [==============================] - 2s 35us/step - loss: 0.1710 - acc: 0.9347\n",
      "Epoch 58/200\n",
      "60000/60000 [==============================] - 2s 34us/step - loss: 0.1679 - acc: 0.9376\n",
      "Epoch 59/200\n",
      "60000/60000 [==============================] - 2s 34us/step - loss: 0.1694 - acc: 0.9363\n",
      "Epoch 60/200\n",
      "60000/60000 [==============================] - 2s 35us/step - loss: 0.1658 - acc: 0.9393\n",
      "Epoch 61/200\n",
      "60000/60000 [==============================] - 2s 35us/step - loss: 0.1674 - acc: 0.9374\n",
      "Epoch 62/200\n",
      "60000/60000 [==============================] - 2s 34us/step - loss: 0.1626 - acc: 0.9389\n",
      "Epoch 63/200\n",
      "60000/60000 [==============================] - 2s 34us/step - loss: 0.1610 - acc: 0.9410\n",
      "Epoch 64/200\n",
      "60000/60000 [==============================] - 2s 35us/step - loss: 0.1587 - acc: 0.9406\n",
      "Epoch 65/200\n",
      "60000/60000 [==============================] - 2s 34us/step - loss: 0.1583 - acc: 0.9410\n",
      "Epoch 66/200\n",
      "60000/60000 [==============================] - 2s 34us/step - loss: 0.1565 - acc: 0.9411\n",
      "Epoch 67/200\n",
      "60000/60000 [==============================] - 2s 34us/step - loss: 0.1547 - acc: 0.9421\n",
      "Epoch 68/200\n",
      "60000/60000 [==============================] - 2s 35us/step - loss: 0.1546 - acc: 0.9417\n",
      "Epoch 69/200\n",
      "60000/60000 [==============================] - 2s 35us/step - loss: 0.1520 - acc: 0.9436\n",
      "Epoch 70/200\n",
      "60000/60000 [==============================] - 2s 34us/step - loss: 0.1529 - acc: 0.9426\n",
      "Epoch 71/200\n",
      "60000/60000 [==============================] - 2s 34us/step - loss: 0.1506 - acc: 0.9434\n",
      "Epoch 72/200\n",
      "60000/60000 [==============================] - 2s 34us/step - loss: 0.1516 - acc: 0.9429\n",
      "Epoch 73/200\n",
      "60000/60000 [==============================] - 2s 35us/step - loss: 0.1449 - acc: 0.9451\n",
      "Epoch 74/200\n",
      "60000/60000 [==============================] - 2s 34us/step - loss: 0.1484 - acc: 0.9438\n",
      "Epoch 75/200\n",
      "60000/60000 [==============================] - 2s 35us/step - loss: 0.1459 - acc: 0.9452\n",
      "Epoch 76/200\n",
      "60000/60000 [==============================] - 2s 34us/step - loss: 0.1480 - acc: 0.9440\n",
      "Epoch 77/200\n",
      "60000/60000 [==============================] - 2s 34us/step - loss: 0.1453 - acc: 0.9451\n",
      "Epoch 78/200\n",
      "60000/60000 [==============================] - 2s 34us/step - loss: 0.1439 - acc: 0.9459\n",
      "Epoch 79/200\n",
      "60000/60000 [==============================] - 2s 34us/step - loss: 0.1403 - acc: 0.9471\n",
      "Epoch 80/200\n",
      "60000/60000 [==============================] - 2s 34us/step - loss: 0.1409 - acc: 0.9475\n",
      "Epoch 81/200\n"
     ]
    },
    {
     "name": "stdout",
     "output_type": "stream",
     "text": [
      "60000/60000 [==============================] - 2s 37us/step - loss: 0.1376 - acc: 0.9487\n",
      "Epoch 82/200\n",
      "60000/60000 [==============================] - 2s 36us/step - loss: 0.1372 - acc: 0.9478\n",
      "Epoch 83/200\n",
      "60000/60000 [==============================] - 2s 34us/step - loss: 0.1354 - acc: 0.9488\n",
      "Epoch 84/200\n",
      "60000/60000 [==============================] - 2s 34us/step - loss: 0.1356 - acc: 0.9495\n",
      "Epoch 85/200\n",
      "60000/60000 [==============================] - 2s 34us/step - loss: 0.1371 - acc: 0.9483\n",
      "Epoch 86/200\n",
      "60000/60000 [==============================] - 2s 34us/step - loss: 0.1350 - acc: 0.9493\n",
      "Epoch 87/200\n",
      "60000/60000 [==============================] - 2s 35us/step - loss: 0.1333 - acc: 0.9499\n",
      "Epoch 88/200\n",
      "60000/60000 [==============================] - 2s 34us/step - loss: 0.1324 - acc: 0.9495\n",
      "Epoch 89/200\n",
      "60000/60000 [==============================] - 2s 34us/step - loss: 0.1283 - acc: 0.9520\n",
      "Epoch 90/200\n",
      "60000/60000 [==============================] - 2s 34us/step - loss: 0.1321 - acc: 0.9507\n",
      "Epoch 91/200\n",
      "60000/60000 [==============================] - 2s 34us/step - loss: 0.1289 - acc: 0.9513\n",
      "Epoch 92/200\n",
      "60000/60000 [==============================] - 2s 34us/step - loss: 0.1316 - acc: 0.9491\n",
      "Epoch 93/200\n",
      "60000/60000 [==============================] - 2s 35us/step - loss: 0.1295 - acc: 0.9514\n",
      "Epoch 94/200\n",
      "60000/60000 [==============================] - 2s 34us/step - loss: 0.1265 - acc: 0.9529\n",
      "Epoch 95/200\n",
      "60000/60000 [==============================] - 2s 34us/step - loss: 0.1241 - acc: 0.9535\n",
      "Epoch 96/200\n",
      "60000/60000 [==============================] - 2s 38us/step - loss: 0.1241 - acc: 0.9534\n",
      "Epoch 97/200\n",
      "60000/60000 [==============================] - 2s 37us/step - loss: 0.1239 - acc: 0.9530\n",
      "Epoch 98/200\n",
      "60000/60000 [==============================] - 2s 34us/step - loss: 0.1215 - acc: 0.9543\n",
      "Epoch 99/200\n",
      "60000/60000 [==============================] - 2s 35us/step - loss: 0.1230 - acc: 0.9533\n",
      "Epoch 100/200\n",
      "60000/60000 [==============================] - 2s 36us/step - loss: 0.1214 - acc: 0.9542\n",
      "Epoch 101/200\n",
      "60000/60000 [==============================] - 2s 35us/step - loss: 0.1177 - acc: 0.9562\n",
      "Epoch 102/200\n",
      "60000/60000 [==============================] - ETA: 0s - loss: 0.1168 - acc: 0.956 - 2s 35us/step - loss: 0.1172 - acc: 0.9560\n",
      "Epoch 103/200\n",
      "60000/60000 [==============================] - 2s 35us/step - loss: 0.1174 - acc: 0.9560\n",
      "Epoch 104/200\n",
      "60000/60000 [==============================] - 2s 35us/step - loss: 0.1177 - acc: 0.9551\n",
      "Epoch 105/200\n",
      "60000/60000 [==============================] - 2s 34us/step - loss: 0.1206 - acc: 0.9552\n",
      "Epoch 106/200\n",
      "60000/60000 [==============================] - 2s 34us/step - loss: 0.1166 - acc: 0.9559\n",
      "Epoch 107/200\n",
      "60000/60000 [==============================] - 2s 36us/step - loss: 0.1151 - acc: 0.9570\n",
      "Epoch 108/200\n",
      "60000/60000 [==============================] - 2s 35us/step - loss: 0.1148 - acc: 0.9568\n",
      "Epoch 109/200\n",
      "60000/60000 [==============================] - 2s 38us/step - loss: 0.1138 - acc: 0.9569\n",
      "Epoch 110/200\n",
      "60000/60000 [==============================] - 2s 34us/step - loss: 0.1126 - acc: 0.9581\n",
      "Epoch 111/200\n",
      "60000/60000 [==============================] - 2s 34us/step - loss: 0.1128 - acc: 0.9585\n",
      "Epoch 112/200\n",
      "60000/60000 [==============================] - 2s 34us/step - loss: 0.1120 - acc: 0.9585\n",
      "Epoch 113/200\n",
      "60000/60000 [==============================] - 2s 34us/step - loss: 0.1119 - acc: 0.9578\n",
      "Epoch 114/200\n",
      "60000/60000 [==============================] - 2s 35us/step - loss: 0.1124 - acc: 0.9576\n",
      "Epoch 115/200\n",
      "60000/60000 [==============================] - 2s 34us/step - loss: 0.1131 - acc: 0.9579\n",
      "Epoch 116/200\n",
      "60000/60000 [==============================] - 2s 34us/step - loss: 0.1125 - acc: 0.9577\n",
      "Epoch 117/200\n",
      "60000/60000 [==============================] - 2s 34us/step - loss: 0.1102 - acc: 0.9582\n",
      "Epoch 118/200\n",
      "60000/60000 [==============================] - 2s 34us/step - loss: 0.1122 - acc: 0.9580\n",
      "Epoch 119/200\n",
      "60000/60000 [==============================] - 2s 34us/step - loss: 0.1085 - acc: 0.9592\n",
      "Epoch 120/200\n",
      "60000/60000 [==============================] - 2s 34us/step - loss: 0.1074 - acc: 0.9589\n",
      "Epoch 121/200\n",
      "60000/60000 [==============================] - 2s 35us/step - loss: 0.1093 - acc: 0.9592\n",
      "Epoch 122/200\n",
      "60000/60000 [==============================] - 2s 34us/step - loss: 0.1083 - acc: 0.9595\n",
      "Epoch 123/200\n",
      "60000/60000 [==============================] - 2s 34us/step - loss: 0.1087 - acc: 0.9583\n",
      "Epoch 124/200\n",
      "60000/60000 [==============================] - 2s 35us/step - loss: 0.1072 - acc: 0.9587\n",
      "Epoch 125/200\n",
      "60000/60000 [==============================] - 2s 34us/step - loss: 0.1045 - acc: 0.9604\n",
      "Epoch 126/200\n",
      "60000/60000 [==============================] - 2s 34us/step - loss: 0.1067 - acc: 0.9593\n",
      "Epoch 127/200\n",
      "60000/60000 [==============================] - 2s 34us/step - loss: 0.1034 - acc: 0.9613\n",
      "Epoch 128/200\n",
      "60000/60000 [==============================] - 2s 34us/step - loss: 0.1024 - acc: 0.9603\n",
      "Epoch 129/200\n",
      "60000/60000 [==============================] - 2s 35us/step - loss: 0.1002 - acc: 0.9620\n",
      "Epoch 130/200\n",
      "60000/60000 [==============================] - 2s 34us/step - loss: 0.1009 - acc: 0.9614\n",
      "Epoch 131/200\n",
      "60000/60000 [==============================] - 2s 34us/step - loss: 0.1007 - acc: 0.9615\n",
      "Epoch 132/200\n",
      "60000/60000 [==============================] - 2s 34us/step - loss: 0.1008 - acc: 0.9615\n",
      "Epoch 133/200\n",
      "60000/60000 [==============================] - 2s 34us/step - loss: 0.0981 - acc: 0.9627\n",
      "Epoch 134/200\n",
      "60000/60000 [==============================] - 2s 35us/step - loss: 0.1014 - acc: 0.9611\n",
      "Epoch 135/200\n",
      "60000/60000 [==============================] - 2s 34us/step - loss: 0.0983 - acc: 0.9631\n",
      "Epoch 136/200\n",
      "60000/60000 [==============================] - 2s 35us/step - loss: 0.0971 - acc: 0.9632\n",
      "Epoch 137/200\n",
      "60000/60000 [==============================] - 2s 35us/step - loss: 0.0968 - acc: 0.9640\n",
      "Epoch 138/200\n",
      "60000/60000 [==============================] - 2s 35us/step - loss: 0.0999 - acc: 0.9622\n",
      "Epoch 139/200\n",
      "60000/60000 [==============================] - 2s 34us/step - loss: 0.0990 - acc: 0.9629\n",
      "Epoch 140/200\n",
      "60000/60000 [==============================] - 2s 34us/step - loss: 0.0999 - acc: 0.9615\n",
      "Epoch 141/200\n",
      "60000/60000 [==============================] - 2s 34us/step - loss: 0.0971 - acc: 0.9629\n",
      "Epoch 142/200\n",
      "60000/60000 [==============================] - 2s 34us/step - loss: 0.0947 - acc: 0.9639\n",
      "Epoch 143/200\n",
      "60000/60000 [==============================] - 2s 34us/step - loss: 0.0950 - acc: 0.9637\n",
      "Epoch 144/200\n",
      "60000/60000 [==============================] - 2s 34us/step - loss: 0.0946 - acc: 0.9635\n",
      "Epoch 145/200\n",
      "60000/60000 [==============================] - 2s 34us/step - loss: 0.0928 - acc: 0.9643\n",
      "Epoch 146/200\n",
      "60000/60000 [==============================] - 2s 34us/step - loss: 0.0915 - acc: 0.9653\n",
      "Epoch 147/200\n",
      "60000/60000 [==============================] - 2s 34us/step - loss: 0.0911 - acc: 0.9661\n",
      "Epoch 148/200\n",
      "60000/60000 [==============================] - 2s 34us/step - loss: 0.0918 - acc: 0.9660\n",
      "Epoch 149/200\n",
      "60000/60000 [==============================] - 2s 34us/step - loss: 0.0916 - acc: 0.9641\n",
      "Epoch 150/200\n",
      "60000/60000 [==============================] - 2s 35us/step - loss: 0.0946 - acc: 0.9633\n",
      "Epoch 151/200\n",
      "60000/60000 [==============================] - 2s 35us/step - loss: 0.0932 - acc: 0.9643\n",
      "Epoch 152/200\n",
      "60000/60000 [==============================] - 2s 35us/step - loss: 0.0934 - acc: 0.9649\n",
      "Epoch 153/200\n",
      "60000/60000 [==============================] - 2s 35us/step - loss: 0.0890 - acc: 0.9662\n",
      "Epoch 154/200\n",
      "60000/60000 [==============================] - 2s 34us/step - loss: 0.0928 - acc: 0.9652\n",
      "Epoch 155/200\n",
      "60000/60000 [==============================] - 2s 34us/step - loss: 0.0898 - acc: 0.9669\n",
      "Epoch 156/200\n",
      "60000/60000 [==============================] - 2s 34us/step - loss: 0.0905 - acc: 0.9657\n",
      "Epoch 157/200\n",
      "60000/60000 [==============================] - 2s 35us/step - loss: 0.0880 - acc: 0.9666\n",
      "Epoch 158/200\n",
      "60000/60000 [==============================] - 2s 34us/step - loss: 0.0881 - acc: 0.9667\n",
      "Epoch 159/200\n",
      "60000/60000 [==============================] - 2s 34us/step - loss: 0.0905 - acc: 0.9668\n",
      "Epoch 160/200\n"
     ]
    },
    {
     "name": "stdout",
     "output_type": "stream",
     "text": [
      "60000/60000 [==============================] - 2s 35us/step - loss: 0.0891 - acc: 0.9665\n",
      "Epoch 161/200\n",
      "60000/60000 [==============================] - 2s 35us/step - loss: 0.0892 - acc: 0.9663\n",
      "Epoch 162/200\n",
      "60000/60000 [==============================] - 2s 35us/step - loss: 0.0844 - acc: 0.9680\n",
      "Epoch 163/200\n",
      "60000/60000 [==============================] - 2s 34us/step - loss: 0.0871 - acc: 0.9666\n",
      "Epoch 164/200\n",
      "60000/60000 [==============================] - 2s 36us/step - loss: 0.0864 - acc: 0.9680\n",
      "Epoch 165/200\n",
      "60000/60000 [==============================] - 2s 34us/step - loss: 0.0857 - acc: 0.9678\n",
      "Epoch 166/200\n",
      "60000/60000 [==============================] - 2s 35us/step - loss: 0.0853 - acc: 0.9682\n",
      "Epoch 167/200\n",
      "60000/60000 [==============================] - 2s 35us/step - loss: 0.0845 - acc: 0.9688\n",
      "Epoch 168/200\n",
      "60000/60000 [==============================] - 2s 34us/step - loss: 0.0831 - acc: 0.9682\n",
      "Epoch 169/200\n",
      "60000/60000 [==============================] - 2s 34us/step - loss: 0.0800 - acc: 0.9702\n",
      "Epoch 170/200\n",
      "60000/60000 [==============================] - 2s 35us/step - loss: 0.0819 - acc: 0.9684\n",
      "Epoch 171/200\n",
      "60000/60000 [==============================] - 2s 36us/step - loss: 0.0828 - acc: 0.9684\n",
      "Epoch 172/200\n",
      "60000/60000 [==============================] - 2s 35us/step - loss: 0.0822 - acc: 0.9683\n",
      "Epoch 173/200\n",
      "60000/60000 [==============================] - 2s 34us/step - loss: 0.0812 - acc: 0.9696\n",
      "Epoch 174/200\n",
      "60000/60000 [==============================] - 2s 35us/step - loss: 0.0802 - acc: 0.9694\n",
      "Epoch 175/200\n",
      "60000/60000 [==============================] - 2s 34us/step - loss: 0.0821 - acc: 0.9684\n",
      "Epoch 176/200\n",
      "60000/60000 [==============================] - 2s 34us/step - loss: 0.0843 - acc: 0.9674\n",
      "Epoch 177/200\n",
      "60000/60000 [==============================] - 2s 35us/step - loss: 0.0839 - acc: 0.9684\n",
      "Epoch 178/200\n",
      "60000/60000 [==============================] - 2s 36us/step - loss: 0.0816 - acc: 0.9695\n",
      "Epoch 179/200\n",
      "60000/60000 [==============================] - 2s 34us/step - loss: 0.0785 - acc: 0.9704\n",
      "Epoch 180/200\n",
      "60000/60000 [==============================] - 2s 34us/step - loss: 0.0812 - acc: 0.9696\n",
      "Epoch 181/200\n",
      "60000/60000 [==============================] - 2s 35us/step - loss: 0.0807 - acc: 0.9687\n",
      "Epoch 182/200\n",
      "60000/60000 [==============================] - 2s 35us/step - loss: 0.0825 - acc: 0.9687\n",
      "Epoch 183/200\n",
      "60000/60000 [==============================] - 2s 34us/step - loss: 0.0801 - acc: 0.9695\n",
      "Epoch 184/200\n",
      "60000/60000 [==============================] - 2s 34us/step - loss: 0.0794 - acc: 0.9700\n",
      "Epoch 185/200\n",
      "60000/60000 [==============================] - 2s 34us/step - loss: 0.0768 - acc: 0.9704\n",
      "Epoch 186/200\n",
      "60000/60000 [==============================] - 2s 35us/step - loss: 0.0783 - acc: 0.9702\n",
      "Epoch 187/200\n",
      "60000/60000 [==============================] - 2s 34us/step - loss: 0.0764 - acc: 0.9714\n",
      "Epoch 188/200\n",
      "60000/60000 [==============================] - 2s 34us/step - loss: 0.0799 - acc: 0.9701\n",
      "Epoch 189/200\n",
      "60000/60000 [==============================] - 2s 34us/step - loss: 0.0775 - acc: 0.9705\n",
      "Epoch 190/200\n",
      "60000/60000 [==============================] - 2s 34us/step - loss: 0.0771 - acc: 0.9707\n",
      "Epoch 191/200\n",
      "60000/60000 [==============================] - 2s 34us/step - loss: 0.0779 - acc: 0.9704\n",
      "Epoch 192/200\n",
      "60000/60000 [==============================] - 2s 34us/step - loss: 0.0814 - acc: 0.9692\n",
      "Epoch 193/200\n",
      "60000/60000 [==============================] - 2s 35us/step - loss: 0.0768 - acc: 0.9712\n",
      "Epoch 194/200\n",
      "60000/60000 [==============================] - 2s 34us/step - loss: 0.0788 - acc: 0.9700\n",
      "Epoch 195/200\n",
      "60000/60000 [==============================] - 2s 34us/step - loss: 0.0787 - acc: 0.9702\n",
      "Epoch 196/200\n",
      "60000/60000 [==============================] - 2s 34us/step - loss: 0.0795 - acc: 0.9697\n",
      "Epoch 197/200\n",
      "60000/60000 [==============================] - 2s 34us/step - loss: 0.0786 - acc: 0.9708\n",
      "Epoch 198/200\n",
      "60000/60000 [==============================] - 2s 35us/step - loss: 0.0770 - acc: 0.9706\n",
      "Epoch 199/200\n",
      "60000/60000 [==============================] - 2s 34us/step - loss: 0.0759 - acc: 0.9716\n",
      "Epoch 200/200\n",
      "60000/60000 [==============================] - 2s 34us/step - loss: 0.0773 - acc: 0.9705\n"
     ]
    },
    {
     "data": {
      "text/plain": [
       "<keras.callbacks.History at 0x7f55b0893d68>"
      ]
     },
     "execution_count": 7,
     "metadata": {},
     "output_type": "execute_result"
    }
   ],
   "source": [
    "batch_size = 1024\n",
    "epochs = 200\n",
    "model.fit(x = x_train, y = y_train, batch_size = batch_size, epochs = epochs)"
   ]
  },
  {
   "cell_type": "markdown",
   "metadata": {},
   "source": [
    "## Question 3 (20 points) \n",
    "\n",
    "Evaluate the performance of your network with the test data. \n",
    "Visualize the performance using appropriate metrics and graphs (eg. confusion matrix). \n",
    "Comment on your per class performance and how it could be better."
   ]
  },
  {
   "cell_type": "code",
   "execution_count": 8,
   "metadata": {},
   "outputs": [],
   "source": [
    "# This function is provided for you to display the confusion matrix.\n",
    "# For more information about the confusion matrix, you can read at\n",
    "# https://en.wikipedia.org/wiki/Confusion_matrix\n",
    "def plot_confusion_matrix(cm, classes, normalize=False, title='Confusion matrix', cmap=plt.cm.Blues):\n",
    "    \"\"\"\n",
    "        This function prints and plots the confusion matrix.\n",
    "        \n",
    "        cm: confusion matrix, default to be np.int32 data type\n",
    "        classes: a list of the class labels or class names\n",
    "        normalize: normalize the matrix so that each row amounts to one\n",
    "        cmap: color map\n",
    "    \"\"\"\n",
    "    if normalize:\n",
    "        cm = cm.astype('float') / cm.sum(axis=1)[:, np.newaxis]\n",
    "        print(\"Normalized confusion matrix\")\n",
    "    else:\n",
    "        print('Confusion matrix, without normalization')\n",
    "    print(cm)\n",
    "\n",
    "    plt.imshow(cm, interpolation='nearest', cmap=cmap)\n",
    "    plt.title(title)\n",
    "    plt.colorbar()\n",
    "    tick_marks = np.arange(len(classes))\n",
    "    plt.xticks(tick_marks, classes, rotation=45)\n",
    "    plt.yticks(tick_marks, classes)\n",
    "\n",
    "    fmt = '.2f' if normalize else 'd'\n",
    "    thresh = cm.max() / 2.\n",
    "    cm = cm.astype(int)\n",
    "    for i, j in itertools.product(range(cm.shape[0]), range(cm.shape[1])):\n",
    "        plt.text(j, i, format(cm[i, j], fmt),\n",
    "                 horizontalalignment=\"center\",\n",
    "                 color=\"white\" if cm[i, j] > thresh else \"black\")\n",
    "    plt.ylabel('True label')\n",
    "    plt.xlabel('Predicted label')\n",
    "    plt.tight_layout()"
   ]
  },
  {
   "cell_type": "markdown",
   "metadata": {},
   "source": [
    "### 3.1 Evaluate the classification accuracy on the test set (10 points)"
   ]
  },
  {
   "cell_type": "code",
   "execution_count": 9,
   "metadata": {},
   "outputs": [
    {
     "name": "stdout",
     "output_type": "stream",
     "text": [
      "10000/10000 [==============================] - 0s 36us/step\n",
      "0.40662904716022313\n",
      "0.9087\n"
     ]
    }
   ],
   "source": [
    "loss, metric = model.evaluate(x = x_test, y = y_test)\n",
    "print(loss)\n",
    "print(metric)"
   ]
  },
  {
   "cell_type": "markdown",
   "metadata": {},
   "source": [
    "### 3.2 Calculate and plot the confusion matrix (10 points)"
   ]
  },
  {
   "cell_type": "code",
   "execution_count": 10,
   "metadata": {},
   "outputs": [
    {
     "name": "stdout",
     "output_type": "stream",
     "text": [
      "Confusion matrix, without normalization\n",
      "[[856.   1.  13.  21.   3.   0. 100.   0.   6.   0.]\n",
      " [  6. 979.   2.   9.   2.   0.   1.   0.   1.   0.]\n",
      " [ 20.   1. 829.  11.  92.   2.  44.   0.   1.   0.]\n",
      " [ 11.   3.   9. 931.  24.   0.  17.   0.   5.   0.]\n",
      " [  0.   1.  64.  27. 868.   0.  39.   0.   1.   0.]\n",
      " [  0.   0.   0.   0.   0. 983.   0.  14.   0.   3.]\n",
      " [ 90.   1.  77.  22.  79.   0. 727.   0.   4.   0.]\n",
      " [  0.   0.   0.   0.   0.   7.   0. 970.   0.  23.]\n",
      " [  4.   0.   4.   5.   2.   1.   1.   4. 979.   0.]\n",
      " [  0.   0.   0.   0.   0.  10.   1.  24.   0. 965.]]\n"
     ]
    },
    {
     "data": {
      "image/png": "[encoded data removed]",
      "text/plain": [
       "<Figure size 432x288 with 2 Axes>"
      ]
     },
     "metadata": {
      "needs_background": "light"
     },
     "output_type": "display_data"
    }
   ],
   "source": [
    "predictions = model.predict(x_test)\n",
    "matrix = np.zeros((10, 10))\n",
    "\n",
    "for i in range(len(predictions)):\n",
    "    maxp = np.argmax(predictions[i])\n",
    "    actual = np.argmax(y_test[i])\n",
    "    matrix[actual][maxp] += 1\n",
    "    \n",
    "plot_confusion_matrix(matrix, list(labels.values()))"
   ]
  },
  {
   "cell_type": "markdown",
   "metadata": {},
   "source": [
    "### 3.3 Comment on your per class performance and how it could be better."
   ]
  },
  {
   "cell_type": "markdown",
   "metadata": {},
   "source": [
    "T-Shirt/top : Correct 85.6% of the time. Most errors due to it being classified as a Shirt.\n",
    "\n",
    "Trousers: Correct 97.9% of the time. No major errors.\n",
    "\n",
    "Pullovers: Correct 82.9% of the time. Most errors due to it being classified as a Coat and sometimes as a Shirt.\n",
    "\n",
    "Dress: Correct 93.1% of the time. No major errors. \n",
    "\n",
    "Coat: Correct 86.8% of the time. Most errors due to it being classified as a Pullover.\n",
    "\n",
    "Sandal: Correct 98.3% of the time. No major errors.\n",
    "\n",
    "Shirt: Correct 72.7% of the time. Majority of the errors are due to the Shirt being classified as other upper-body clothes, mainly Shirt, Pullover and Coat.\n",
    "\n",
    "Sneaker: Correct 97.0% of the time. No major errors.\n",
    "\n",
    "Bag: Correct 97.9% of the time. No major errors.\n",
    "\n",
    "Anke Boot: Correct 96.5% of the time. Small error due to it sometimes being classified as a Sneaker.\n",
    "\n",
    "Overall, the classification is pretty good. The biggest error comes with the Shirt class, that gets heavily confused with other upper-body clothes. \n",
    "\n",
    "To make this better, we want the Shirt to be more correct. One way of doing this is by providing the training set with more Shirt images. The issue with this approach would be that the model then becomes biased towards the Shirt and other upper-body clothes now get predicted as Shirts. Another alternative would be to increase the sample size for each image. This would allow for the model to adjust its weights more to help with Shirt prediction. "
   ]
  },
  {
   "cell_type": "markdown",
   "metadata": {},
   "source": [
    "## Question 4 (20 points)\n",
    "Take two photos, one of your clothes or shoes that belongs to one of 10 classes, the other that does not belong to any class.\n",
    "\n",
    "Use either Python or other software (Photoshop, Gimp, or any image editer) to convert the photos into grayscale, crop the region of interest and reshape into the size of 28x28.\n",
    "\n",
    "### 4.1 Load and visualise your own images (6 points)"
   ]
  },
  {
   "cell_type": "code",
   "execution_count": 11,
   "metadata": {},
   "outputs": [
    {
     "data": {
      "image/png": "[encoded data removed]",
      "text/plain": [
       "<Figure size 432x288 with 2 Axes>"
      ]
     },
     "metadata": {
      "needs_background": "light"
     },
     "output_type": "display_data"
    }
   ],
   "source": [
    "scarf = tf.image.decode_jpeg(tf.read_file('scarf1.jpg'))\n",
    "trousers = tf.image.decode_jpeg(tf.read_file('trousers1.jpeg'))\n",
    "resized_scarf = tf.image.resize_images(scarf, [28, 28])\n",
    "resized_trousers = tf.image.resize_images(trousers, [28, 28])\n",
    "gray_scarf = tf.image.rgb_to_grayscale(resized_scarf)\n",
    "gray_trousers = tf.image.rgb_to_grayscale(resized_trousers)\n",
    "\n",
    "stf = 1 - tf.Variable(gray_scarf) / 255\n",
    "ttf = 1 - tf.Variable(gray_trousers) / 255\n",
    "init = tf.global_variables_initializer()\n",
    "sess = tf.Session()\n",
    "sess.run(init)\n",
    "ims = sess.run(stf)\n",
    "ims.resize((28, 28))\n",
    "imt = sess.run(ttf)\n",
    "imt.resize((28, 28))\n",
    "fig = plt.figure()\n",
    "fig.add_subplot(1,2,1)\n",
    "plt.imshow(imt, cmap=\"gray\")\n",
    "fig.add_subplot(1,2,2)\n",
    "plt.imshow(ims, cmap=\"gray\")\n",
    "plt.show()"
   ]
  },
  {
   "cell_type": "markdown",
   "metadata": {},
   "source": [
    "### 4.2 Test your network on the two images and show the classification results (10 points)"
   ]
  },
  {
   "cell_type": "code",
   "execution_count": 12,
   "metadata": {},
   "outputs": [],
   "source": [
    "def printPrediction(predictions):\n",
    "    \n",
    "    res = np.argmax(predictions)\n",
    "    conf = predictions[0][res] * 100\n",
    "    resClass = list(labels.values())[res]\n",
    "    \n",
    "    print(\"Percentages:\")\n",
    "    print([\"{0:.3f}\".format(pred * 100) for pred in predictions[0]])\n",
    "    print(\"Model is {0:.3f}% sure image is \".format(conf) + resClass)\n",
    "    \n",
    "    \n",
    "    "
   ]
  },
  {
   "cell_type": "code",
   "execution_count": 13,
   "metadata": {},
   "outputs": [
    {
     "name": "stdout",
     "output_type": "stream",
     "text": [
      "Percentages:\n",
      "['0.000', '100.000', '0.000', '0.000', '0.000', '0.000', '0.000', '0.000', '0.000', '0.000']\n",
      "Model is 100.000% sure image is Trouser\n"
     ]
    }
   ],
   "source": [
    "prediction = model.predict(np.reshape(imt, [1, 784]))\n",
    "printPrediction(prediction)"
   ]
  },
  {
   "cell_type": "code",
   "execution_count": 14,
   "metadata": {},
   "outputs": [
    {
     "name": "stdout",
     "output_type": "stream",
     "text": [
      "Percentages:\n",
      "['0.000', '95.866', '0.000', '0.004', '0.064', '0.000', '0.016', '0.000', '4.049', '0.000']\n",
      "Model is 95.866% sure image is Trouser\n"
     ]
    }
   ],
   "source": [
    "prediction = model.predict(np.reshape(ims, [1, 784]))\n",
    "printPrediction(prediction)"
   ]
  },
  {
   "cell_type": "markdown",
   "metadata": {},
   "source": [
    "### 4.3 Discuss the classification results and provide one method to improve real life performance of the network (4 points)"
   ]
  },
  {
   "cell_type": "markdown",
   "metadata": {},
   "source": [
    "The model correctly predicts the classification for the trousers picture, as it was one of the categories from the training set. \n",
    "\n",
    "The model classified the scarf as trousers as well, with a 96% accuracy. This can be easily understood by the fact that the scarf picture looks very similar to trousers. \n",
    "\n",
    "To improve real life performance, we could first of all use a larger training set. We could also modify the training data to contain:\n",
    "\n",
    "1) Rotated images\n",
    "\n",
    "2) Cropped images \n",
    "\n",
    "3) Flipped images\n",
    "\n",
    "Another possibility would be to use higher resolution images for training, so there is more room for features specific to certain labels (could help with the confusion between Shirt and other upper-body clothes). "
   ]
  },
  {
   "cell_type": "markdown",
   "metadata": {},
   "source": [
    "## 5. Survey\n",
    "How long did the coursework take you to solve? "
   ]
  },
  {
   "cell_type": "markdown",
   "metadata": {},
   "source": [
    "7 Hours"
   ]
  }
 ],
 "metadata": {
  "kernelspec": {
   "display_name": "Python 3",
   "language": "python",
   "name": "python3"
  },
  "language_info": {
   "codemirror_mode": {
    "name": "ipython",
    "version": 3
   },
   "file_extension": ".py",
   "mimetype": "text/x-python",
   "name": "python",
   "nbconvert_exporter": "python",
   "pygments_lexer": "ipython3",
   "version": "3.6.6"
  }
 },
 "nbformat": 4,
 "nbformat_minor": 2
}
