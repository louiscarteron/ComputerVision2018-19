{
 "cells": [
  {
   "cell_type": "markdown",
   "metadata": {},
   "source": [
    "# Coursework 2: Neural Networks \n",
    "\n",
    "This coursework covers the topics covered in class regarding neural networks for image classification.\n",
    "\n",
    "This coursework includes both coding questions as well as written ones. Please upload the notebook, which contains your code, results and answers as a pdf file onto Cate.\n",
    "\n",
    "Dependencies: If you work on a college computer in the Computing Lab, where Ubuntu 18.04 is installed by default, you can use the following virtual environment for your work, where relevant Python packages are already installed.\n",
    "\n",
    "`source /vol/bitbucket/wbai/virt/computer_vision_ubuntu18.04/bin/activate`\n",
    "\n",
    "Alternatively, you can use pip, pip3 or anaconda etc to install Python packages.\n",
    "\n",
    "**Note 1:** please read the both the text and code comment in this notebook to get an idea what you are supposed to implement.\n",
    "\n",
    "**Note 2:** If you are using the virtual environment in the Computing Lab, please run the following command in the command line before opening jupyter-notebook and importing tensorflow. This will tell tensorflow where the Nvidia CUDA libariries are.\n",
    "\n",
    "`export LD_LIBRARY_PATH=/vol/cuda/9.0.176/lib64/:\"${LD_LIBRARY_PATH}}\"` "
   ]
  },
  {
   "cell_type": "code",
   "execution_count": 1,
   "metadata": {},
   "outputs": [
    {
     "name": "stderr",
     "output_type": "stream",
     "text": [
      "Using TensorFlow backend.\n"
     ]
    }
   ],
   "source": [
    "# Import libraries\n",
    "import numpy as np \n",
    "import matplotlib.pyplot as plt\n",
    "%matplotlib inline\n",
    "import tensorflow as tf \n",
    "import keras\n",
    "from keras.models import Sequential\n",
    "from keras.layers import Dense, Dropout, Activation \n",
    "import collections\n",
    "import itertools\n",
    "from PIL import Image"
   ]
  },
  {
   "cell_type": "markdown",
   "metadata": {},
   "source": [
    "## Question 1 (20 points)\n",
    "\n",
    "Throughout this coursework you will be working with the Fashion-MNIST dataset. If you are interested, you may find relevant information regarding the dataset in this paper.\n",
    "\n",
    "[1] Fashion-MNIST: A novel image dataset for benchmarking machine learning algorithms. Han Xiao, Kashif Rasul, Roland Vollgraf. [arXiv:1708.07747](https://arxiv.org/abs/1708.07747)\n",
    "\n",
    "Be sure that you have the following files in your working directory: data.tar.gz and reader.py. Loading the data can be done as follows:\n",
    "\n",
    "`from reader import get_images\n",
    "(x_train, y_train), (x_test, y_test) = get_images()`\n",
    "\n",
    "The dataset is already split into a set of 60,000 training images and a set of 10,000 test images. The images are of size 28x28 pixels and stored as 784-D vector. So if you would like to visualise the images, you need to reshape the array.\n",
    "\n",
    "There are in total 10 label classes, which are:\n",
    "* 0: T-shirt/top\n",
    "* 1: Trousers\n",
    "* 2: Pullover\n",
    "* 3: Dress\n",
    "* 4: Coat\n",
    "* 5: Sandal\n",
    "* 6: Shirt\n",
    "* 7: Sneaker\n",
    "* 8: Bag\n",
    "* 9: Ankle boot"
   ]
  },
  {
   "cell_type": "markdown",
   "metadata": {},
   "source": [
    "### 1.1 Load data (6 points)\n",
    "Load the dataset and print the dimensions of the training set and the test set."
   ]
  },
  {
   "cell_type": "code",
   "execution_count": 2,
   "metadata": {},
   "outputs": [
    {
     "name": "stdout",
     "output_type": "stream",
     "text": [
      "Dimensions of the training set is (60000, 784) with 60000 labels\n",
      "Dimensions of the test set is (10000, 784) with 10000 labels\n"
     ]
    }
   ],
   "source": [
    "from reader import get_images\n",
    "(x_train, y_train), (x_test, y_test) = get_images()\n",
    "print (\"Dimensions of the training set is %s with %s labels\" % (str(x_train.shape), str(y_train.shape[0])))\n",
    "print (\"Dimensions of the test set is %s with %s labels\" % (str(x_test.shape), str(y_test.shape[0])))"
   ]
  },
  {
   "cell_type": "markdown",
   "metadata": {},
   "source": [
    "### 1.2 Visualize data (6 points)\n",
    "Visualise 3 training images (T-shirt, trousers and pullover) and 3 test images (dress, coat and sandal)."
   ]
  },
  {
   "cell_type": "code",
   "execution_count": 3,
   "metadata": {},
   "outputs": [
    {
     "data": {
      "image/png": "[encoded data removed]",
      "text/plain": [
       "<Figure size 576x576 with 6 Axes>"
      ]
     },
     "metadata": {
      "needs_background": "light"
     },
     "output_type": "display_data"
    }
   ],
   "source": [
    "labels = {0 : \"T-shirt/top\", 1: \"Trouser\", 2: \"Pullover\", 3: \"Dress\", 4: \"Coat\",\n",
    "          5: \"Sandal\", 6: \"Shirt\", 7: \"Sneaker\", 8: \"Bag\", 9: \"Ankle Boot\"}\n",
    "\n",
    "# https://www.kaggle.com/gpreda/cnn-with-tensorflow-keras-for-fashion-mnist#\n",
    "\n",
    "f, ax = plt.subplots(2, 3, figsize=(8, 8))\n",
    "# 1, 5, 16 for train\n",
    "# 6, 8, 13 for test\n",
    "train_index = set([1, 5, 16])\n",
    "test_index = set([6, 8, 13])\n",
    "ite = set([0, 1, 2])\n",
    "for i, j, k in zip(ite, train_index, test_index):\n",
    "    ax[0, i].imshow(x_train[j].reshape(28, 28), cmap=\"Blues\")\n",
    "    ax[0, i].axis('off')\n",
    "    ax[0, i].set_title(labels[y_train[j]])\n",
    "    \n",
    "    ax[1, i].imshow(x_test[k].reshape(28, 28), cmap=\"Greens\")\n",
    "    ax[1, i].axis('off')\n",
    "    ax[1, i].set_title(labels[y_test[k]])\n",
    "    \n",
    "plt.show()"
   ]
  },
  {
   "cell_type": "markdown",
   "metadata": {},
   "source": [
    "### 1.3 Data balance (4 points)\n",
    "Print out the number of training samples for each class."
   ]
  },
  {
   "cell_type": "code",
   "execution_count": 4,
   "metadata": {},
   "outputs": [
    {
     "name": "stdout",
     "output_type": "stream",
     "text": [
      "Ankle Boot          :   6000 or 10.0%\n",
      "T-shirt/top         :   6000 or 10.0%\n",
      "Dress               :   6000 or 10.0%\n",
      "Pullover            :   6000 or 10.0%\n",
      "Sneaker             :   6000 or 10.0%\n",
      "Sandal              :   6000 or 10.0%\n",
      "Trouser             :   6000 or 10.0%\n",
      "Shirt               :   6000 or 10.0%\n",
      "Coat                :   6000 or 10.0%\n",
      "Bag                 :   6000 or 10.0%\n"
     ]
    }
   ],
   "source": [
    "labels = {0 : \"T-shirt/top\", 1: \"Trouser\", 2: \"Pullover\", 3: \"Dress\", 4: \"Coat\",\n",
    "          5: \"Sandal\", 6: \"Shirt\", 7: \"Sneaker\", 8: \"Bag\", 9: \"Ankle Boot\"}\n",
    "\n",
    "def get_classes_distribution(data):\n",
    "    # Get the count for each label\n",
    "    label_counts = collections.Counter(data)\n",
    "\n",
    "    # Get total number of samples\n",
    "    total_samples = len(data)\n",
    "    \n",
    "    samp_values = list(label_counts.values())\n",
    "    samp_keys = list(label_counts.keys())\n",
    "\n",
    "    # Count the number of items in each class\n",
    "    for i in range(len(label_counts)):\n",
    "        label = labels[samp_keys[i]]\n",
    "        count = samp_values[i]\n",
    "        percent = (count / total_samples) * 100\n",
    "        print(\"{:<20s}:   {} or {}%\".format(label, count, percent))\n",
    "\n",
    "get_classes_distribution(y_train)"
   ]
  },
  {
   "cell_type": "markdown",
   "metadata": {},
   "source": [
    "### 1.4 Discussion (4 points)\n",
    "Is the dataset balanced? What would happen if the dataset is not balanced in the context of image classification? "
   ]
  },
  {
   "cell_type": "markdown",
   "metadata": {},
   "source": [
    "The dataset is balanced, as each category is represented by 10%. If the dataset is not balanced, then the set will be biased towards a certain image classification. This would mean that it would favor the output of a certain label."
   ]
  },
  {
   "cell_type": "markdown",
   "metadata": {},
   "source": [
    "## Question 2 (40 points)\n",
    "\n",
    "Build a neural network and train it with the Fashion-MNIST dataset. Here, we use the keras library, which is a high-level neural network library built upon tensorflow."
   ]
  },
  {
   "cell_type": "code",
   "execution_count": 5,
   "metadata": {},
   "outputs": [],
   "source": [
    "# Convert the label class into a one-hot representation\n",
    "# 10 for the number of labels.\n",
    "num_classes = 10\n",
    "y_train = keras.utils.to_categorical(y_train, num_classes)\n",
    "y_test = keras.utils.to_categorical(y_test, num_classes)"
   ]
  },
  {
   "cell_type": "markdown",
   "metadata": {},
   "source": [
    "### 2.1 Build a multi-layer perceptron, also known as multi-layer fully connected network. You need to define the layers, the loss function, the optimiser and evaluation metric. (30 points)"
   ]
  },
  {
   "cell_type": "code",
   "execution_count": 19,
   "metadata": {},
   "outputs": [
    {
     "name": "stdout",
     "output_type": "stream",
     "text": [
      "_________________________________________________________________\n",
      "Layer (type)                 Output Shape              Param #   \n",
      "=================================================================\n",
      "dense_16 (Dense)             (None, 784)               615440    \n",
      "_________________________________________________________________\n",
      "activation_16 (Activation)   (None, 784)               0         \n",
      "_________________________________________________________________\n",
      "dropout_8 (Dropout)          (None, 784)               0         \n",
      "_________________________________________________________________\n",
      "dense_17 (Dense)             (None, 300)               235500    \n",
      "_________________________________________________________________\n",
      "activation_17 (Activation)   (None, 300)               0         \n",
      "_________________________________________________________________\n",
      "dense_18 (Dense)             (None, 10)                3010      \n",
      "_________________________________________________________________\n",
      "activation_18 (Activation)   (None, 10)                0         \n",
      "=================================================================\n",
      "Total params: 853,950\n",
      "Trainable params: 853,950\n",
      "Non-trainable params: 0\n",
      "_________________________________________________________________\n",
      "None\n"
     ]
    }
   ],
   "source": [
    "model = keras.models.Sequential()\n",
    "\n",
    "model.add(Dense(784, input_dim=784))\n",
    "model.add(Activation('relu'))\n",
    "model.add(Dropout(0.20))\n",
    "model.add(Dense(300))\n",
    "model.add(Activation('relu'))\n",
    "#model.add(Dropout(0.50))\n",
    "#model.add(Dense(150))\n",
    "#model.add(Activation('relu'))\n",
    "#model.add(Dropout(0.50))\n",
    "model.add(Dense(10))\n",
    "model.add(Activation('softmax'))\n",
    "#model.compile(loss=\"categorical_crossentropy\", optimizer=\"adam\", metrics=[\"accuracy\"])\n",
    "\n",
    "model.compile(loss=keras.losses.categorical_crossentropy,\n",
    "              optimizer='sgd',\n",
    "              metrics=['accuracy'])\n",
    "print(model.summary())"
   ]
  },
  {
   "cell_type": "markdown",
   "metadata": {},
   "source": [
    "### 2.2 Define the optimisation parameters including the batch size and the number of epochs and then run the optimiser. (10 points)\n",
    "\n",
    "We have tested that for an appropriate network architecture, on a personal laptop and with only CPU, it takes about a few seconds per epoch to train the network. For 100 epochs, it takes about a coffee break's time to finish the training. If you run it on a powerful GPU, it would be even much faster."
   ]
  },
  {
   "cell_type": "code",
   "execution_count": 20,
   "metadata": {
    "scrolled": true
   },
   "outputs": [
    {
     "name": "stdout",
     "output_type": "stream",
     "text": [
      "Epoch 1/200\n",
      "60000/60000 [==============================] - 1s 13us/step - loss: 12.0441 - acc: 0.2516\n",
      "Epoch 2/200\n",
      "60000/60000 [==============================] - 1s 10us/step - loss: 11.6153 - acc: 0.2789\n",
      "Epoch 3/200\n",
      "60000/60000 [==============================] - 1s 10us/step - loss: 11.5662 - acc: 0.2821\n",
      "Epoch 4/200\n",
      "60000/60000 [==============================] - 1s 10us/step - loss: 11.5385 - acc: 0.2837\n",
      "Epoch 5/200\n",
      "60000/60000 [==============================] - 1s 10us/step - loss: 10.5779 - acc: 0.3407\n",
      "Epoch 6/200\n",
      "60000/60000 [==============================] - 1s 10us/step - loss: 8.1305 - acc: 0.4916\n",
      "Epoch 7/200\n",
      "60000/60000 [==============================] - 1s 10us/step - loss: 6.8400 - acc: 0.5703\n",
      "Epoch 8/200\n",
      "60000/60000 [==============================] - 1s 10us/step - loss: 6.5232 - acc: 0.5904\n",
      "Epoch 9/200\n",
      "60000/60000 [==============================] - 1s 10us/step - loss: 6.3524 - acc: 0.6006\n",
      "Epoch 10/200\n",
      "60000/60000 [==============================] - 1s 10us/step - loss: 6.2310 - acc: 0.6084\n",
      "Epoch 11/200\n",
      "60000/60000 [==============================] - 1s 10us/step - loss: 6.1709 - acc: 0.6123\n",
      "Epoch 12/200\n",
      "60000/60000 [==============================] - 1s 10us/step - loss: 6.0433 - acc: 0.6202\n",
      "Epoch 13/200\n",
      "60000/60000 [==============================] - 1s 10us/step - loss: 5.9947 - acc: 0.6228\n",
      "Epoch 14/200\n",
      "60000/60000 [==============================] - 1s 10us/step - loss: 5.9249 - acc: 0.6274\n",
      "Epoch 15/200\n",
      "60000/60000 [==============================] - 1s 10us/step - loss: 5.6068 - acc: 0.6445\n",
      "Epoch 16/200\n",
      "60000/60000 [==============================] - 1s 10us/step - loss: 5.2106 - acc: 0.6679\n",
      "Epoch 17/200\n",
      "60000/60000 [==============================] - 1s 10us/step - loss: 4.3410 - acc: 0.7193\n",
      "Epoch 18/200\n",
      "60000/60000 [==============================] - 1s 10us/step - loss: 4.0743 - acc: 0.7342\n",
      "Epoch 19/200\n",
      "60000/60000 [==============================] - 1s 10us/step - loss: 3.8911 - acc: 0.7444\n",
      "Epoch 20/200\n",
      "60000/60000 [==============================] - 1s 10us/step - loss: 3.7759 - acc: 0.7491\n",
      "Epoch 21/200\n",
      "60000/60000 [==============================] - 1s 10us/step - loss: 3.5956 - acc: 0.7546\n",
      "Epoch 22/200\n",
      "60000/60000 [==============================] - 1s 10us/step - loss: 3.3960 - acc: 0.7564\n",
      "Epoch 23/200\n",
      "60000/60000 [==============================] - 1s 10us/step - loss: 2.9483 - acc: 0.7460\n",
      "Epoch 24/200\n",
      "60000/60000 [==============================] - 1s 10us/step - loss: 2.3432 - acc: 0.7406\n",
      "Epoch 25/200\n",
      "60000/60000 [==============================] - 1s 10us/step - loss: 1.2816 - acc: 0.7971\n",
      "Epoch 26/200\n",
      "60000/60000 [==============================] - 1s 10us/step - loss: 0.6808 - acc: 0.8291\n",
      "Epoch 27/200\n",
      "60000/60000 [==============================] - 1s 10us/step - loss: 0.5990 - acc: 0.8365\n",
      "Epoch 28/200\n",
      "60000/60000 [==============================] - 1s 10us/step - loss: 0.5419 - acc: 0.8456\n",
      "Epoch 29/200\n",
      "60000/60000 [==============================] - 1s 10us/step - loss: 0.5085 - acc: 0.8467\n",
      "Epoch 30/200\n",
      "60000/60000 [==============================] - 1s 10us/step - loss: 0.4785 - acc: 0.8529\n",
      "Epoch 31/200\n",
      "60000/60000 [==============================] - 1s 10us/step - loss: 0.4579 - acc: 0.8564\n",
      "Epoch 32/200\n",
      "60000/60000 [==============================] - 1s 10us/step - loss: 0.4392 - acc: 0.8611\n",
      "Epoch 33/200\n",
      "60000/60000 [==============================] - 1s 10us/step - loss: 0.4244 - acc: 0.8630\n",
      "Epoch 34/200\n",
      "60000/60000 [==============================] - 1s 10us/step - loss: 0.4076 - acc: 0.8684\n",
      "Epoch 35/200\n",
      "60000/60000 [==============================] - 1s 10us/step - loss: 0.3945 - acc: 0.8699\n",
      "Epoch 36/200\n",
      "60000/60000 [==============================] - 1s 10us/step - loss: 0.3838 - acc: 0.8710\n",
      "Epoch 37/200\n",
      "60000/60000 [==============================] - 1s 10us/step - loss: 0.3682 - acc: 0.8744\n",
      "Epoch 38/200\n",
      "60000/60000 [==============================] - 1s 10us/step - loss: 0.3605 - acc: 0.8784\n",
      "Epoch 39/200\n",
      "60000/60000 [==============================] - 1s 10us/step - loss: 0.3558 - acc: 0.8791\n",
      "Epoch 40/200\n",
      "60000/60000 [==============================] - 1s 10us/step - loss: 0.3488 - acc: 0.8794\n",
      "Epoch 41/200\n",
      "60000/60000 [==============================] - 1s 10us/step - loss: 0.3401 - acc: 0.8819\n",
      "Epoch 42/200\n",
      "60000/60000 [==============================] - 1s 10us/step - loss: 0.3335 - acc: 0.8842\n",
      "Epoch 43/200\n",
      "60000/60000 [==============================] - 1s 10us/step - loss: 0.3308 - acc: 0.8856\n",
      "Epoch 44/200\n",
      "60000/60000 [==============================] - 1s 10us/step - loss: 0.3247 - acc: 0.8866\n",
      "Epoch 45/200\n",
      "60000/60000 [==============================] - 1s 10us/step - loss: 0.3207 - acc: 0.8884\n",
      "Epoch 46/200\n",
      "60000/60000 [==============================] - 1s 10us/step - loss: 0.3131 - acc: 0.8905\n",
      "Epoch 47/200\n",
      "60000/60000 [==============================] - 1s 10us/step - loss: 0.3100 - acc: 0.8903\n",
      "Epoch 48/200\n",
      "60000/60000 [==============================] - 1s 10us/step - loss: 0.3028 - acc: 0.8924\n",
      "Epoch 49/200\n",
      "60000/60000 [==============================] - 1s 10us/step - loss: 0.2965 - acc: 0.8934\n",
      "Epoch 50/200\n",
      "60000/60000 [==============================] - 1s 10us/step - loss: 0.2933 - acc: 0.8949\n",
      "Epoch 51/200\n",
      "60000/60000 [==============================] - 1s 10us/step - loss: 0.2903 - acc: 0.8958\n",
      "Epoch 52/200\n",
      "60000/60000 [==============================] - 1s 10us/step - loss: 0.2864 - acc: 0.8985\n",
      "Epoch 53/200\n",
      "60000/60000 [==============================] - 1s 10us/step - loss: 0.2856 - acc: 0.8979\n",
      "Epoch 54/200\n",
      "60000/60000 [==============================] - 1s 9us/step - loss: 0.2820 - acc: 0.8987\n",
      "Epoch 55/200\n",
      "60000/60000 [==============================] - 1s 10us/step - loss: 0.2783 - acc: 0.8997\n",
      "Epoch 56/200\n",
      "60000/60000 [==============================] - 1s 9us/step - loss: 0.2753 - acc: 0.9017\n",
      "Epoch 57/200\n",
      "60000/60000 [==============================] - 1s 10us/step - loss: 0.2686 - acc: 0.9030\n",
      "Epoch 58/200\n",
      "60000/60000 [==============================] - 1s 10us/step - loss: 0.2698 - acc: 0.9020\n",
      "Epoch 59/200\n",
      "60000/60000 [==============================] - 1s 10us/step - loss: 0.2648 - acc: 0.9032\n",
      "Epoch 60/200\n",
      "60000/60000 [==============================] - 1s 10us/step - loss: 0.2616 - acc: 0.9047\n",
      "Epoch 61/200\n",
      "60000/60000 [==============================] - 1s 10us/step - loss: 0.2601 - acc: 0.9056\n",
      "Epoch 62/200\n",
      "60000/60000 [==============================] - 1s 10us/step - loss: 0.2558 - acc: 0.9060\n",
      "Epoch 63/200\n",
      "60000/60000 [==============================] - 1s 9us/step - loss: 0.2574 - acc: 0.9067\n",
      "Epoch 64/200\n",
      "60000/60000 [==============================] - 1s 9us/step - loss: 0.2521 - acc: 0.9082\n",
      "Epoch 65/200\n",
      "60000/60000 [==============================] - 1s 9us/step - loss: 0.2504 - acc: 0.9095\n",
      "Epoch 66/200\n",
      "60000/60000 [==============================] - 1s 9us/step - loss: 0.2485 - acc: 0.9103\n",
      "Epoch 67/200\n",
      "60000/60000 [==============================] - 1s 9us/step - loss: 0.2456 - acc: 0.9111\n",
      "Epoch 68/200\n",
      "60000/60000 [==============================] - 1s 10us/step - loss: 0.2459 - acc: 0.9106\n",
      "Epoch 69/200\n",
      "60000/60000 [==============================] - 1s 9us/step - loss: 0.2430 - acc: 0.9119\n",
      "Epoch 70/200\n",
      "60000/60000 [==============================] - 1s 9us/step - loss: 0.2413 - acc: 0.9120\n",
      "Epoch 71/200\n",
      "60000/60000 [==============================] - 1s 9us/step - loss: 0.2384 - acc: 0.9124\n",
      "Epoch 72/200\n",
      "60000/60000 [==============================] - 1s 10us/step - loss: 0.2348 - acc: 0.9147\n",
      "Epoch 73/200\n",
      "60000/60000 [==============================] - 1s 10us/step - loss: 0.2319 - acc: 0.9147\n",
      "Epoch 74/200\n",
      "60000/60000 [==============================] - 1s 9us/step - loss: 0.2323 - acc: 0.9142\n",
      "Epoch 75/200\n",
      "60000/60000 [==============================] - 1s 9us/step - loss: 0.2285 - acc: 0.9171\n",
      "Epoch 76/200\n",
      "60000/60000 [==============================] - 1s 9us/step - loss: 0.2294 - acc: 0.9172\n",
      "Epoch 77/200\n",
      "60000/60000 [==============================] - 1s 9us/step - loss: 0.2267 - acc: 0.9179\n",
      "Epoch 78/200\n",
      "60000/60000 [==============================] - 1s 10us/step - loss: 0.2247 - acc: 0.9174\n",
      "Epoch 79/200\n",
      "60000/60000 [==============================] - 1s 10us/step - loss: 0.2243 - acc: 0.9176\n",
      "Epoch 80/200\n",
      "60000/60000 [==============================] - 1s 10us/step - loss: 0.2201 - acc: 0.9189\n",
      "Epoch 81/200\n"
     ]
    },
    {
     "name": "stdout",
     "output_type": "stream",
     "text": [
      "60000/60000 [==============================] - 1s 9us/step - loss: 0.2174 - acc: 0.9213\n",
      "Epoch 82/200\n",
      "60000/60000 [==============================] - 1s 9us/step - loss: 0.2198 - acc: 0.9180\n",
      "Epoch 83/200\n",
      "60000/60000 [==============================] - 1s 9us/step - loss: 0.2181 - acc: 0.9207\n",
      "Epoch 84/200\n",
      "60000/60000 [==============================] - 1s 9us/step - loss: 0.2167 - acc: 0.9204\n",
      "Epoch 85/200\n",
      "60000/60000 [==============================] - 1s 9us/step - loss: 0.2173 - acc: 0.9202\n",
      "Epoch 86/200\n",
      "60000/60000 [==============================] - 1s 9us/step - loss: 0.2127 - acc: 0.9213\n",
      "Epoch 87/200\n",
      "60000/60000 [==============================] - 1s 9us/step - loss: 0.2102 - acc: 0.9222\n",
      "Epoch 88/200\n",
      "60000/60000 [==============================] - 1s 9us/step - loss: 0.2126 - acc: 0.9211\n",
      "Epoch 89/200\n",
      "60000/60000 [==============================] - 1s 9us/step - loss: 0.2068 - acc: 0.9235\n",
      "Epoch 90/200\n",
      "60000/60000 [==============================] - 1s 9us/step - loss: 0.2083 - acc: 0.9239\n",
      "Epoch 91/200\n",
      "60000/60000 [==============================] - 1s 9us/step - loss: 0.2040 - acc: 0.9252\n",
      "Epoch 92/200\n",
      "60000/60000 [==============================] - 1s 9us/step - loss: 0.2053 - acc: 0.9235\n",
      "Epoch 93/200\n",
      "60000/60000 [==============================] - 1s 9us/step - loss: 0.2030 - acc: 0.9254\n",
      "Epoch 94/200\n",
      "60000/60000 [==============================] - 1s 9us/step - loss: 0.2012 - acc: 0.9261\n",
      "Epoch 95/200\n",
      "60000/60000 [==============================] - 1s 9us/step - loss: 0.1991 - acc: 0.9266\n",
      "Epoch 96/200\n",
      "60000/60000 [==============================] - 1s 9us/step - loss: 0.1999 - acc: 0.9267\n",
      "Epoch 97/200\n",
      "60000/60000 [==============================] - 1s 9us/step - loss: 0.1970 - acc: 0.9271\n",
      "Epoch 98/200\n",
      "60000/60000 [==============================] - 1s 9us/step - loss: 0.1976 - acc: 0.9277\n",
      "Epoch 99/200\n",
      "60000/60000 [==============================] - 1s 9us/step - loss: 0.1942 - acc: 0.9284\n",
      "Epoch 100/200\n",
      "60000/60000 [==============================] - 1s 10us/step - loss: 0.1932 - acc: 0.9277\n",
      "Epoch 101/200\n",
      "60000/60000 [==============================] - 1s 9us/step - loss: 0.1910 - acc: 0.9298\n",
      "Epoch 102/200\n",
      "60000/60000 [==============================] - 1s 9us/step - loss: 0.1933 - acc: 0.9275\n",
      "Epoch 103/200\n",
      "60000/60000 [==============================] - 1s 9us/step - loss: 0.1927 - acc: 0.9287\n",
      "Epoch 104/200\n",
      "60000/60000 [==============================] - 1s 9us/step - loss: 0.1885 - acc: 0.9303\n",
      "Epoch 105/200\n",
      "60000/60000 [==============================] - 1s 9us/step - loss: 0.1875 - acc: 0.9315\n",
      "Epoch 106/200\n",
      "60000/60000 [==============================] - 1s 9us/step - loss: 0.1860 - acc: 0.9307\n",
      "Epoch 107/200\n",
      "60000/60000 [==============================] - 1s 10us/step - loss: 0.1885 - acc: 0.9304\n",
      "Epoch 108/200\n",
      "60000/60000 [==============================] - 1s 10us/step - loss: 0.1867 - acc: 0.9312\n",
      "Epoch 109/200\n",
      "60000/60000 [==============================] - 1s 10us/step - loss: 0.1844 - acc: 0.9319\n",
      "Epoch 110/200\n",
      "60000/60000 [==============================] - 1s 9us/step - loss: 0.1850 - acc: 0.9313\n",
      "Epoch 111/200\n",
      "60000/60000 [==============================] - 1s 9us/step - loss: 0.1824 - acc: 0.9331\n",
      "Epoch 112/200\n",
      "60000/60000 [==============================] - 1s 10us/step - loss: 0.1831 - acc: 0.9322\n",
      "Epoch 113/200\n",
      "60000/60000 [==============================] - 1s 10us/step - loss: 0.1804 - acc: 0.9338\n",
      "Epoch 114/200\n",
      "60000/60000 [==============================] - 1s 10us/step - loss: 0.1825 - acc: 0.9314\n",
      "Epoch 115/200\n",
      "60000/60000 [==============================] - 1s 10us/step - loss: 0.1783 - acc: 0.9341\n",
      "Epoch 116/200\n",
      "60000/60000 [==============================] - 1s 9us/step - loss: 0.1782 - acc: 0.9347\n",
      "Epoch 117/200\n",
      "60000/60000 [==============================] - 1s 10us/step - loss: 0.1746 - acc: 0.9349\n",
      "Epoch 118/200\n",
      "60000/60000 [==============================] - 1s 10us/step - loss: 0.1757 - acc: 0.9339\n",
      "Epoch 119/200\n",
      "60000/60000 [==============================] - 1s 10us/step - loss: 0.1753 - acc: 0.9349\n",
      "Epoch 120/200\n",
      "60000/60000 [==============================] - 1s 10us/step - loss: 0.1710 - acc: 0.9375\n",
      "Epoch 121/200\n",
      "60000/60000 [==============================] - 1s 10us/step - loss: 0.1731 - acc: 0.9350\n",
      "Epoch 122/200\n",
      "60000/60000 [==============================] - 1s 10us/step - loss: 0.1728 - acc: 0.9352\n",
      "Epoch 123/200\n",
      "60000/60000 [==============================] - 1s 10us/step - loss: 0.1690 - acc: 0.9376\n",
      "Epoch 124/200\n",
      "60000/60000 [==============================] - 1s 10us/step - loss: 0.1694 - acc: 0.9373\n",
      "Epoch 125/200\n",
      "60000/60000 [==============================] - 1s 9us/step - loss: 0.1693 - acc: 0.9373\n",
      "Epoch 126/200\n",
      "60000/60000 [==============================] - 1s 10us/step - loss: 0.1666 - acc: 0.9387\n",
      "Epoch 127/200\n",
      "60000/60000 [==============================] - 1s 10us/step - loss: 0.1689 - acc: 0.9375\n",
      "Epoch 128/200\n",
      "60000/60000 [==============================] - 1s 9us/step - loss: 0.1640 - acc: 0.9392\n",
      "Epoch 129/200\n",
      "60000/60000 [==============================] - 1s 10us/step - loss: 0.1646 - acc: 0.9390\n",
      "Epoch 130/200\n",
      "60000/60000 [==============================] - 1s 9us/step - loss: 0.1637 - acc: 0.9385\n",
      "Epoch 131/200\n",
      "60000/60000 [==============================] - 1s 10us/step - loss: 0.1638 - acc: 0.9406\n",
      "Epoch 132/200\n",
      "60000/60000 [==============================] - 1s 10us/step - loss: 0.1643 - acc: 0.9393\n",
      "Epoch 133/200\n",
      "60000/60000 [==============================] - 1s 9us/step - loss: 0.1631 - acc: 0.9405\n",
      "Epoch 134/200\n",
      "60000/60000 [==============================] - 1s 10us/step - loss: 0.1588 - acc: 0.9416\n",
      "Epoch 135/200\n",
      "60000/60000 [==============================] - 1s 10us/step - loss: 0.1621 - acc: 0.9397\n",
      "Epoch 136/200\n",
      "60000/60000 [==============================] - 1s 10us/step - loss: 0.1594 - acc: 0.9410\n",
      "Epoch 137/200\n",
      "60000/60000 [==============================] - 1s 10us/step - loss: 0.1603 - acc: 0.9406\n",
      "Epoch 138/200\n",
      "60000/60000 [==============================] - 1s 10us/step - loss: 0.1576 - acc: 0.9421\n",
      "Epoch 139/200\n",
      "60000/60000 [==============================] - 1s 9us/step - loss: 0.1599 - acc: 0.9410\n",
      "Epoch 140/200\n",
      "60000/60000 [==============================] - 1s 9us/step - loss: 0.1546 - acc: 0.9432\n",
      "Epoch 141/200\n",
      "60000/60000 [==============================] - 1s 9us/step - loss: 0.1561 - acc: 0.9425\n",
      "Epoch 142/200\n",
      "60000/60000 [==============================] - 1s 9us/step - loss: 0.1565 - acc: 0.9425\n",
      "Epoch 143/200\n",
      "60000/60000 [==============================] - 1s 9us/step - loss: 0.1548 - acc: 0.9425\n",
      "Epoch 144/200\n",
      "60000/60000 [==============================] - 1s 9us/step - loss: 0.1529 - acc: 0.9439\n",
      "Epoch 145/200\n",
      "60000/60000 [==============================] - 1s 9us/step - loss: 0.1522 - acc: 0.9452\n",
      "Epoch 146/200\n",
      "60000/60000 [==============================] - 1s 9us/step - loss: 0.1551 - acc: 0.9427\n",
      "Epoch 147/200\n",
      "60000/60000 [==============================] - 1s 9us/step - loss: 0.1537 - acc: 0.9430\n",
      "Epoch 148/200\n",
      "60000/60000 [==============================] - 1s 9us/step - loss: 0.1530 - acc: 0.9433\n",
      "Epoch 149/200\n",
      "60000/60000 [==============================] - 1s 9us/step - loss: 0.1526 - acc: 0.9444\n",
      "Epoch 150/200\n",
      "60000/60000 [==============================] - 1s 9us/step - loss: 0.1476 - acc: 0.9464\n",
      "Epoch 151/200\n",
      "60000/60000 [==============================] - 1s 9us/step - loss: 0.1505 - acc: 0.9450\n",
      "Epoch 152/200\n",
      "60000/60000 [==============================] - 1s 9us/step - loss: 0.1478 - acc: 0.9459\n",
      "Epoch 153/200\n",
      "60000/60000 [==============================] - 1s 9us/step - loss: 0.1481 - acc: 0.9455\n",
      "Epoch 154/200\n",
      "60000/60000 [==============================] - 1s 9us/step - loss: 0.1462 - acc: 0.9463\n",
      "Epoch 155/200\n",
      "60000/60000 [==============================] - 1s 9us/step - loss: 0.1484 - acc: 0.9453\n",
      "Epoch 156/200\n",
      "60000/60000 [==============================] - 1s 9us/step - loss: 0.1461 - acc: 0.9460\n",
      "Epoch 157/200\n",
      "60000/60000 [==============================] - 1s 9us/step - loss: 0.1478 - acc: 0.9461\n",
      "Epoch 158/200\n",
      "60000/60000 [==============================] - 1s 9us/step - loss: 0.1438 - acc: 0.9471\n",
      "Epoch 159/200\n",
      "60000/60000 [==============================] - 1s 9us/step - loss: 0.1460 - acc: 0.9456\n",
      "Epoch 160/200\n",
      "60000/60000 [==============================] - 1s 9us/step - loss: 0.1458 - acc: 0.9460\n",
      "Epoch 161/200\n"
     ]
    },
    {
     "name": "stdout",
     "output_type": "stream",
     "text": [
      "60000/60000 [==============================] - 1s 10us/step - loss: 0.1441 - acc: 0.9465\n",
      "Epoch 162/200\n",
      "60000/60000 [==============================] - 1s 10us/step - loss: 0.1429 - acc: 0.9476\n",
      "Epoch 163/200\n",
      "60000/60000 [==============================] - 1s 9us/step - loss: 0.1421 - acc: 0.9477\n",
      "Epoch 164/200\n",
      "60000/60000 [==============================] - 1s 9us/step - loss: 0.1417 - acc: 0.9465\n",
      "Epoch 165/200\n",
      "60000/60000 [==============================] - 1s 10us/step - loss: 0.1425 - acc: 0.9474\n",
      "Epoch 166/200\n",
      "60000/60000 [==============================] - 1s 10us/step - loss: 0.1418 - acc: 0.9479\n",
      "Epoch 167/200\n",
      "60000/60000 [==============================] - 1s 10us/step - loss: 0.1387 - acc: 0.9494\n",
      "Epoch 168/200\n",
      "60000/60000 [==============================] - 1s 10us/step - loss: 0.1386 - acc: 0.9489\n",
      "Epoch 169/200\n",
      "60000/60000 [==============================] - 1s 9us/step - loss: 0.1374 - acc: 0.9484\n",
      "Epoch 170/200\n",
      "60000/60000 [==============================] - 1s 9us/step - loss: 0.1386 - acc: 0.9482\n",
      "Epoch 171/200\n",
      "60000/60000 [==============================] - 1s 9us/step - loss: 0.1373 - acc: 0.9499\n",
      "Epoch 172/200\n",
      "60000/60000 [==============================] - 1s 10us/step - loss: 0.1379 - acc: 0.9490\n",
      "Epoch 173/200\n",
      "60000/60000 [==============================] - 1s 10us/step - loss: 0.1358 - acc: 0.9497\n",
      "Epoch 174/200\n",
      "60000/60000 [==============================] - 1s 9us/step - loss: 0.1369 - acc: 0.9500\n",
      "Epoch 175/200\n",
      "60000/60000 [==============================] - 1s 9us/step - loss: 0.1338 - acc: 0.9506\n",
      "Epoch 176/200\n",
      "60000/60000 [==============================] - 1s 9us/step - loss: 0.1333 - acc: 0.9502\n",
      "Epoch 177/200\n",
      "60000/60000 [==============================] - 1s 9us/step - loss: 0.1341 - acc: 0.9502\n",
      "Epoch 178/200\n",
      "60000/60000 [==============================] - 1s 9us/step - loss: 0.1329 - acc: 0.9502\n",
      "Epoch 179/200\n",
      "60000/60000 [==============================] - 1s 9us/step - loss: 0.1323 - acc: 0.9516\n",
      "Epoch 180/200\n",
      "60000/60000 [==============================] - 1s 9us/step - loss: 0.1337 - acc: 0.9499\n",
      "Epoch 181/200\n",
      "60000/60000 [==============================] - 1s 9us/step - loss: 0.1315 - acc: 0.9517\n",
      "Epoch 182/200\n",
      "60000/60000 [==============================] - 1s 9us/step - loss: 0.1301 - acc: 0.9520\n",
      "Epoch 183/200\n",
      "60000/60000 [==============================] - 1s 9us/step - loss: 0.1315 - acc: 0.9512\n",
      "Epoch 184/200\n",
      "60000/60000 [==============================] - 1s 9us/step - loss: 0.1328 - acc: 0.9512\n",
      "Epoch 185/200\n",
      "60000/60000 [==============================] - 1s 9us/step - loss: 0.1290 - acc: 0.9522\n",
      "Epoch 186/200\n",
      "60000/60000 [==============================] - 1s 9us/step - loss: 0.1315 - acc: 0.9514\n",
      "Epoch 187/200\n",
      "60000/60000 [==============================] - 1s 9us/step - loss: 0.1292 - acc: 0.9530\n",
      "Epoch 188/200\n",
      "60000/60000 [==============================] - 1s 9us/step - loss: 0.1282 - acc: 0.9523\n",
      "Epoch 189/200\n",
      "60000/60000 [==============================] - 1s 9us/step - loss: 0.1276 - acc: 0.9534\n",
      "Epoch 190/200\n",
      "60000/60000 [==============================] - 1s 9us/step - loss: 0.1322 - acc: 0.9514\n",
      "Epoch 191/200\n",
      "60000/60000 [==============================] - 1s 9us/step - loss: 0.1275 - acc: 0.9528\n",
      "Epoch 192/200\n",
      "60000/60000 [==============================] - 1s 10us/step - loss: 0.1274 - acc: 0.9526\n",
      "Epoch 193/200\n",
      "60000/60000 [==============================] - 1s 9us/step - loss: 0.1276 - acc: 0.9527\n",
      "Epoch 194/200\n",
      "60000/60000 [==============================] - 1s 9us/step - loss: 0.1260 - acc: 0.9542\n",
      "Epoch 195/200\n",
      "60000/60000 [==============================] - 1s 9us/step - loss: 0.1275 - acc: 0.9535\n",
      "Epoch 196/200\n",
      "60000/60000 [==============================] - 1s 10us/step - loss: 0.1242 - acc: 0.9544\n",
      "Epoch 197/200\n",
      "60000/60000 [==============================] - 1s 9us/step - loss: 0.1243 - acc: 0.9542\n",
      "Epoch 198/200\n",
      "60000/60000 [==============================] - 1s 9us/step - loss: 0.1229 - acc: 0.9551\n",
      "Epoch 199/200\n",
      "60000/60000 [==============================] - 1s 9us/step - loss: 0.1236 - acc: 0.9540\n",
      "Epoch 200/200\n",
      "60000/60000 [==============================] - 1s 9us/step - loss: 0.1234 - acc: 0.9547\n"
     ]
    },
    {
     "data": {
      "text/plain": [
       "<keras.callbacks.History at 0x7f375b78f7b8>"
      ]
     },
     "execution_count": 20,
     "metadata": {},
     "output_type": "execute_result"
    }
   ],
   "source": [
    "batch_size = 1000\n",
    "epochs = 200\n",
    "model.fit(x = x_train, y = y_train, batch_size = batch_size, epochs = epochs)"
   ]
  },
  {
   "cell_type": "markdown",
   "metadata": {},
   "source": [
    "## Question 3 (20 points) \n",
    "\n",
    "Evaluate the performance of your network with the test data. \n",
    "Visualize the performance using appropriate metrics and graphs (eg. confusion matrix). \n",
    "Comment on your per class performance and how it could be better."
   ]
  },
  {
   "cell_type": "code",
   "execution_count": 8,
   "metadata": {},
   "outputs": [],
   "source": [
    "# This function is provided for you to display the confusion matrix.\n",
    "# For more information about the confusion matrix, you can read at\n",
    "# https://en.wikipedia.org/wiki/Confusion_matrix\n",
    "def plot_confusion_matrix(cm, classes, normalize=False, title='Confusion matrix', cmap=plt.cm.Blues):\n",
    "    \"\"\"\n",
    "        This function prints and plots the confusion matrix.\n",
    "        \n",
    "        cm: confusion matrix, default to be np.int32 data type\n",
    "        classes: a list of the class labels or class names\n",
    "        normalize: normalize the matrix so that each row amounts to one\n",
    "        cmap: color map\n",
    "    \"\"\"\n",
    "    if normalize:\n",
    "        cm = cm.astype('float') / cm.sum(axis=1)[:, np.newaxis]\n",
    "        print(\"Normalized confusion matrix\")\n",
    "    else:\n",
    "        print('Confusion matrix, without normalization')\n",
    "    print(cm)\n",
    "\n",
    "    plt.imshow(cm, interpolation='nearest', cmap=cmap)\n",
    "    plt.title(title)\n",
    "    plt.colorbar()\n",
    "    tick_marks = np.arange(len(classes))\n",
    "    plt.xticks(tick_marks, classes, rotation=45)\n",
    "    plt.yticks(tick_marks, classes)\n",
    "\n",
    "    fmt = '.2f' if normalize else 'd'\n",
    "    thresh = cm.max() / 2.\n",
    "    cm = cm.astype(int)\n",
    "    for i, j in itertools.product(range(cm.shape[0]), range(cm.shape[1])):\n",
    "        plt.text(j, i, format(cm[i, j], fmt),\n",
    "                 horizontalalignment=\"center\",\n",
    "                 color=\"white\" if cm[i, j] > thresh else \"black\")\n",
    "    plt.ylabel('True label')\n",
    "    plt.xlabel('Predicted label')\n",
    "    plt.tight_layout()"
   ]
  },
  {
   "cell_type": "markdown",
   "metadata": {},
   "source": [
    "### 3.1 Evaluate the classification accuracy on the test set (10 points)"
   ]
  },
  {
   "cell_type": "code",
   "execution_count": 23,
   "metadata": {},
   "outputs": [
    {
     "name": "stdout",
     "output_type": "stream",
     "text": [
      "10000/10000 [==============================] - 0s 17us/step\n",
      "0.5024804414853453\n",
      "0.8826\n"
     ]
    }
   ],
   "source": [
    "loss, metric = model.evaluate(x = x_test, y = y_test)\n",
    "print(loss)\n",
    "print(metric)"
   ]
  },
  {
   "cell_type": "markdown",
   "metadata": {},
   "source": [
    "### 3.2 Calculate and plot the confusion matrix (10 points)"
   ]
  },
  {
   "cell_type": "code",
   "execution_count": 24,
   "metadata": {},
   "outputs": [
    {
     "name": "stdout",
     "output_type": "stream",
     "text": [
      "Confusion matrix, without normalization\n",
      "[[854.   3.  21.  25.   1.   0. 166.   0.   6.   0.]\n",
      " [  1. 977.   1.   6.   2.   1.   4.   0.   0.   0.]\n",
      " [ 14.   0. 778.  11.  67.   0.  77.   0.   3.   0.]\n",
      " [ 20.  15.  12. 882.  27.   0.  21.   0.   6.   0.]\n",
      " [  4.   1. 124.  35. 839.   0.  66.   0.   2.   0.]\n",
      " [  2.   0.   0.   0.   0. 967.   0.  17.   6.  13.]\n",
      " [ 97.   2.  60.  36.  63.   0. 654.   0.   7.   1.]\n",
      " [  0.   0.   0.   0.   0.  18.   0. 955.   6.  30.]\n",
      " [  8.   2.   4.   5.   1.   0.  12.   0. 964.   0.]\n",
      " [  0.   0.   0.   0.   0.  14.   0.  28.   0. 956.]]\n"
     ]
    },
    {
     "data": {
      "image/png": "[encoded data removed]",
      "text/plain": [
       "<Figure size 432x288 with 2 Axes>"
      ]
     },
     "metadata": {
      "needs_background": "light"
     },
     "output_type": "display_data"
    }
   ],
   "source": [
    "predictions = model.predict(x_test)\n",
    "matrix = np.zeros((10, 10))\n",
    "\n",
    "for i in range(len(predictions)):\n",
    "    maxp = np.argmax(predictions[i])\n",
    "    actual = np.argmax(y_test[i])\n",
    "    matrix[maxp][actual] += 1\n",
    "    \n",
    "plot_confusion_matrix(matrix, list(labels.values()))"
   ]
  },
  {
   "cell_type": "markdown",
   "metadata": {},
   "source": [
    "## Question 4 (20 points)\n",
    "Take two photos, one of your clothes or shoes that belongs to one of 10 classes, the other that does not belong to any class.\n",
    "\n",
    "Use either Python or other software (Photoshop, Gimp, or any image editer) to convert the photos into grayscale, crop the region of interest and reshape into the size of 28x28.\n",
    "\n",
    "### 4.1 Load and visualise your own images (6 points)"
   ]
  },
  {
   "cell_type": "code",
   "execution_count": 11,
   "metadata": {},
   "outputs": [
    {
     "data": {
      "image/png": "[encoded data removed]",
      "text/plain": [
       "<Figure size 432x288 with 2 Axes>"
      ]
     },
     "metadata": {
      "needs_background": "light"
     },
     "output_type": "display_data"
    }
   ],
   "source": [
    "airforce = tf.image.decode_jpeg(tf.read_file('airforce.jpg'))\n",
    "rayban = tf.image.decode_jpeg(tf.read_file('rayban.jpg'))\n",
    "resized_airforce = tf.image.resize_images(airforce, [28, 28])\n",
    "resized_rayban = tf.image.resize_images(rayban, [28, 28])\n",
    "gray_airforce = tf.image.rgb_to_grayscale(resized_airforce)\n",
    "gray_rayban = tf.image.rgb_to_grayscale(resized_rayban)\n",
    "\n",
    "atf = tf.Variable(gray_airforce)\n",
    "rtf = tf.Variable(gray_rayban)\n",
    "init = tf.global_variables_initializer()\n",
    "sess = tf.Session()\n",
    "sess.run(init)\n",
    "ima = sess.run(atf)\n",
    "ima.resize((28, 28))\n",
    "imr = sess.run(rtf)\n",
    "imr.resize((28, 28))\n",
    "fig = plt.figure()\n",
    "fig.add_subplot(1,2,1)\n",
    "plt.imshow(ima, cmap=\"gray\")\n",
    "fig.add_subplot(1,2,2)\n",
    "plt.imshow(imr, cmap=\"gray\")\n",
    "plt.show()"
   ]
  },
  {
   "cell_type": "markdown",
   "metadata": {},
   "source": [
    "### 4.2 Test your network on the two images and show the classification results (10 points)"
   ]
  },
  {
   "cell_type": "code",
   "execution_count": null,
   "metadata": {},
   "outputs": [],
   "source": []
  },
  {
   "cell_type": "markdown",
   "metadata": {},
   "source": [
    "### 4.3 Discuss the classification results and provide one method to improve real life performance of the network (4 points)"
   ]
  },
  {
   "cell_type": "code",
   "execution_count": null,
   "metadata": {},
   "outputs": [],
   "source": []
  },
  {
   "cell_type": "markdown",
   "metadata": {},
   "source": [
    "## 5. Survey\n",
    "How long did the coursework take you to solve? "
   ]
  },
  {
   "cell_type": "markdown",
   "metadata": {},
   "source": []
  },
  {
   "cell_type": "code",
   "execution_count": null,
   "metadata": {},
   "outputs": [],
   "source": []
  }
 ],
 "metadata": {
  "kernelspec": {
   "display_name": "Python 3",
   "language": "python",
   "name": "python3"
  },
  "language_info": {
   "codemirror_mode": {
    "name": "ipython",
    "version": 3
   },
   "file_extension": ".py",
   "mimetype": "text/x-python",
   "name": "python",
   "nbconvert_exporter": "python",
   "pygments_lexer": "ipython3",
   "version": "3.6.6"
  }
 },
 "nbformat": 4,
 "nbformat_minor": 2
}
