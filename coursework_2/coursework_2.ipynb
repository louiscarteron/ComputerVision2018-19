{
 "cells": [
  {
   "cell_type": "markdown",
   "metadata": {},
   "source": [
    "# Coursework 2: Neural Networks \n",
    "\n",
    "This coursework covers the topics covered in class regarding neural networks for image classification.\n",
    "\n",
    "This coursework includes both coding questions as well as written ones. Please upload the notebook, which contains your code, results and answers as a pdf file onto Cate.\n",
    "\n",
    "Dependencies: If you work on a college computer in the Computing Lab, where Ubuntu 18.04 is installed by default, you can use the following virtual environment for your work, where relevant Python packages are already installed.\n",
    "\n",
    "`source /vol/bitbucket/wbai/virt/computer_vision_ubuntu18.04/bin/activate`\n",
    "\n",
    "Alternatively, you can use pip, pip3 or anaconda etc to install Python packages.\n",
    "\n",
    "**Note 1:** please read the both the text and code comment in this notebook to get an idea what you are supposed to implement.\n",
    "\n",
    "**Note 2:** If you are using the virtual environment in the Computing Lab, please run the following command in the command line before opening jupyter-notebook and importing tensorflow. This will tell tensorflow where the Nvidia CUDA libariries are.\n",
    "\n",
    "`export LD_LIBRARY_PATH=/vol/cuda/9.0.176/lib64/:\"${LD_LIBRARY_PATH}}\"` "
   ]
  },
  {
   "cell_type": "code",
   "execution_count": 1,
   "metadata": {},
   "outputs": [
    {
     "name": "stderr",
     "output_type": "stream",
     "text": [
      "Using TensorFlow backend.\n"
     ]
    }
   ],
   "source": [
    "# Import libraries\n",
    "import numpy as np \n",
    "import matplotlib.pyplot as plt\n",
    "%matplotlib inline\n",
    "import tensorflow as tf \n",
    "import keras\n",
    "from keras.models import Sequential\n",
    "from keras.layers import Dense, Dropout, Activation \n",
    "import collections\n",
    "import itertools\n",
    "from PIL import Image"
   ]
  },
  {
   "cell_type": "markdown",
   "metadata": {},
   "source": [
    "## Question 1 (20 points)\n",
    "\n",
    "Throughout this coursework you will be working with the Fashion-MNIST dataset. If you are interested, you may find relevant information regarding the dataset in this paper.\n",
    "\n",
    "[1] Fashion-MNIST: A novel image dataset for benchmarking machine learning algorithms. Han Xiao, Kashif Rasul, Roland Vollgraf. [arXiv:1708.07747](https://arxiv.org/abs/1708.07747)\n",
    "\n",
    "Be sure that you have the following files in your working directory: data.tar.gz and reader.py. Loading the data can be done as follows:\n",
    "\n",
    "`from reader import get_images\n",
    "(x_train, y_train), (x_test, y_test) = get_images()`\n",
    "\n",
    "The dataset is already split into a set of 60,000 training images and a set of 10,000 test images. The images are of size 28x28 pixels and stored as 784-D vector. So if you would like to visualise the images, you need to reshape the array.\n",
    "\n",
    "There are in total 10 label classes, which are:\n",
    "* 0: T-shirt/top\n",
    "* 1: Trousers\n",
    "* 2: Pullover\n",
    "* 3: Dress\n",
    "* 4: Coat\n",
    "* 5: Sandal\n",
    "* 6: Shirt\n",
    "* 7: Sneaker\n",
    "* 8: Bag\n",
    "* 9: Ankle boot"
   ]
  },
  {
   "cell_type": "markdown",
   "metadata": {},
   "source": [
    "### 1.1 Load data (6 points)\n",
    "Load the dataset and print the dimensions of the training set and the test set."
   ]
  },
  {
   "cell_type": "code",
   "execution_count": 2,
   "metadata": {},
   "outputs": [
    {
     "name": "stdout",
     "output_type": "stream",
     "text": [
      "Dimensions of the training set is (60000, 784) with 60000 labels\n",
      "Dimensions of the test set is (10000, 784) with 10000 labels\n"
     ]
    }
   ],
   "source": [
    "from reader import get_images\n",
    "(x_train, y_train), (x_test, y_test) = get_images()\n",
    "print (\"Dimensions of the training set is %s with %s labels\" % (str(x_train.shape), str(y_train.shape[0])))\n",
    "print (\"Dimensions of the test set is %s with %s labels\" % (str(x_test.shape), str(y_test.shape[0])))"
   ]
  },
  {
   "cell_type": "markdown",
   "metadata": {},
   "source": [
    "### 1.2 Visualize data (6 points)\n",
    "Visualise 3 training images (T-shirt, trousers and pullover) and 3 test images (dress, coat and sandal)."
   ]
  },
  {
   "cell_type": "code",
   "execution_count": 3,
   "metadata": {},
   "outputs": [
    {
     "data": {
      "image/png": "[encoded data removed]",
      "text/plain": [
       "<Figure size 576x576 with 6 Axes>"
      ]
     },
     "metadata": {
      "needs_background": "light"
     },
     "output_type": "display_data"
    }
   ],
   "source": [
    "labels = {0 : \"T-shirt/top\", 1: \"Trouser\", 2: \"Pullover\", 3: \"Dress\", 4: \"Coat\",\n",
    "          5: \"Sandal\", 6: \"Shirt\", 7: \"Sneaker\", 8: \"Bag\", 9: \"Ankle Boot\"}\n",
    "\n",
    "# https://www.kaggle.com/gpreda/cnn-with-tensorflow-keras-for-fashion-mnist#\n",
    "\n",
    "f, ax = plt.subplots(2, 3, figsize=(8, 8))\n",
    "# 1, 5, 16 for train\n",
    "# 6, 8, 13 for test\n",
    "train_index = set([1, 5, 16])\n",
    "test_index = set([6, 8, 13])\n",
    "ite = set([0, 1, 2])\n",
    "for i, j, k in zip(ite, train_index, test_index):\n",
    "    ax[0, i].imshow(x_train[j].reshape(28, 28), cmap=\"Blues\")\n",
    "    ax[0, i].axis('off')\n",
    "    ax[0, i].set_title(labels[y_train[j]])\n",
    "    \n",
    "    ax[1, i].imshow(x_test[k].reshape(28, 28), cmap=\"Greens\")\n",
    "    ax[1, i].axis('off')\n",
    "    ax[1, i].set_title(labels[y_test[k]])\n",
    "    \n",
    "plt.show()"
   ]
  },
  {
   "cell_type": "markdown",
   "metadata": {},
   "source": [
    "### 1.3 Data balance (4 points)\n",
    "Print out the number of training samples for each class."
   ]
  },
  {
   "cell_type": "code",
   "execution_count": 4,
   "metadata": {},
   "outputs": [
    {
     "name": "stdout",
     "output_type": "stream",
     "text": [
      "Ankle Boot          :   6000 or 10.0%\n",
      "T-shirt/top         :   6000 or 10.0%\n",
      "Dress               :   6000 or 10.0%\n",
      "Pullover            :   6000 or 10.0%\n",
      "Sneaker             :   6000 or 10.0%\n",
      "Sandal              :   6000 or 10.0%\n",
      "Trouser             :   6000 or 10.0%\n",
      "Shirt               :   6000 or 10.0%\n",
      "Coat                :   6000 or 10.0%\n",
      "Bag                 :   6000 or 10.0%\n"
     ]
    }
   ],
   "source": [
    "labels = {0 : \"T-shirt/top\", 1: \"Trouser\", 2: \"Pullover\", 3: \"Dress\", 4: \"Coat\",\n",
    "          5: \"Sandal\", 6: \"Shirt\", 7: \"Sneaker\", 8: \"Bag\", 9: \"Ankle Boot\"}\n",
    "\n",
    "def get_classes_distribution(data):\n",
    "    # Get the count for each label\n",
    "    label_counts = collections.Counter(data)\n",
    "\n",
    "    # Get total number of samples\n",
    "    total_samples = len(data)\n",
    "    \n",
    "    samp_values = list(label_counts.values())\n",
    "    samp_keys = list(label_counts.keys())\n",
    "\n",
    "    # Count the number of items in each class\n",
    "    for i in range(len(label_counts)):\n",
    "        label = labels[samp_keys[i]]\n",
    "        count = samp_values[i]\n",
    "        percent = (count / total_samples) * 100\n",
    "        print(\"{:<20s}:   {} or {}%\".format(label, count, percent))\n",
    "\n",
    "get_classes_distribution(y_train)"
   ]
  },
  {
   "cell_type": "markdown",
   "metadata": {},
   "source": [
    "### 1.4 Discussion (4 points)\n",
    "Is the dataset balanced? What would happen if the dataset is not balanced in the context of image classification? "
   ]
  },
  {
   "cell_type": "markdown",
   "metadata": {},
   "source": [
    "The dataset is balanced, as each category is represented by 10%. If the dataset is not balanced, then the set will be biased towards a certain image classification. This would mean that it would favor the output of a certain label."
   ]
  },
  {
   "cell_type": "markdown",
   "metadata": {},
   "source": [
    "## Question 2 (40 points)\n",
    "\n",
    "Build a neural network and train it with the Fashion-MNIST dataset. Here, we use the keras library, which is a high-level neural network library built upon tensorflow."
   ]
  },
  {
   "cell_type": "code",
   "execution_count": 5,
   "metadata": {},
   "outputs": [],
   "source": [
    "# Convert the label class into a one-hot representation\n",
    "# 10 for the number of labels.\n",
    "num_classes = 10\n",
    "y_train = keras.utils.to_categorical(y_train, num_classes)\n",
    "y_test = keras.utils.to_categorical(y_test, num_classes)"
   ]
  },
  {
   "cell_type": "markdown",
   "metadata": {},
   "source": [
    "### 2.1 Build a multi-layer perceptron, also known as multi-layer fully connected network. You need to define the layers, the loss function, the optimiser and evaluation metric. (30 points)"
   ]
  },
  {
   "cell_type": "code",
   "execution_count": 12,
   "metadata": {},
   "outputs": [
    {
     "name": "stdout",
     "output_type": "stream",
     "text": [
      "_________________________________________________________________\n",
      "Layer (type)                 Output Shape              Param #   \n",
      "=================================================================\n",
      "dense_13 (Dense)             (None, 784)               615440    \n",
      "_________________________________________________________________\n",
      "dropout_4 (Dropout)          (None, 784)               0         \n",
      "_________________________________________________________________\n",
      "activation_13 (Activation)   (None, 784)               0         \n",
      "_________________________________________________________________\n",
      "dense_14 (Dense)             (None, 500)               392500    \n",
      "_________________________________________________________________\n",
      "activation_14 (Activation)   (None, 500)               0         \n",
      "_________________________________________________________________\n",
      "dense_15 (Dense)             (None, 150)               75150     \n",
      "_________________________________________________________________\n",
      "activation_15 (Activation)   (None, 150)               0         \n",
      "_________________________________________________________________\n",
      "dense_16 (Dense)             (None, 10)                1510      \n",
      "_________________________________________________________________\n",
      "activation_16 (Activation)   (None, 10)                0         \n",
      "=================================================================\n",
      "Total params: 1,084,600\n",
      "Trainable params: 1,084,600\n",
      "Non-trainable params: 0\n",
      "_________________________________________________________________\n",
      "None\n"
     ]
    }
   ],
   "source": [
    "model = keras.models.Sequential()\n",
    "\n",
    "model.add(Dense(784, input_dim=784))\n",
    "model.add(Dropout(0.50))\n",
    "model.add(Activation('relu'))\n",
    "model.add(Dense(500))\n",
    "#model.add(Dropout(0.25))\n",
    "model.add(Activation('relu'))\n",
    "model.add(Dense(150))\n",
    "model.add(Activation('relu'))\n",
    "model.add(Dense(10))\n",
    "model.add(Activation('softmax'))\n",
    "#model.compile(loss=\"categorical_crossentropy\", optimizer=\"adam\", metrics=[\"accuracy\"])\n",
    "\n",
    "model.compile(loss=keras.losses.categorical_crossentropy,\n",
    "              optimizer='sgd',\n",
    "              metrics=['accuracy'])\n",
    "print(model.summary())"
   ]
  },
  {
   "cell_type": "markdown",
   "metadata": {},
   "source": [
    "### 2.2 Define the optimisation parameters including the batch size and the number of epochs and then run the optimiser. (10 points)\n",
    "\n",
    "We have tested that for an appropriate network architecture, on a personal laptop and with only CPU, it takes about a few seconds per epoch to train the network. For 100 epochs, it takes about a coffee break's time to finish the training. If you run it on a powerful GPU, it would be even much faster."
   ]
  },
  {
   "cell_type": "code",
   "execution_count": null,
   "metadata": {},
   "outputs": [
    {
     "name": "stdout",
     "output_type": "stream",
     "text": [
      "Epoch 1/100\n",
      "60000/60000 [==============================] - 3s 52us/step - loss: 11.8887 - acc: 0.2605\n",
      "Epoch 2/100\n",
      "60000/60000 [==============================] - 3s 49us/step - loss: 9.6994 - acc: 0.3954\n",
      "Epoch 3/100\n",
      "60000/60000 [==============================] - 3s 49us/step - loss: 8.6862 - acc: 0.4587\n",
      "Epoch 4/100\n",
      "60000/60000 [==============================] - 3s 49us/step - loss: 8.5278 - acc: 0.4686\n",
      "Epoch 5/100\n",
      "60000/60000 [==============================] - 3s 49us/step - loss: 7.8528 - acc: 0.5077\n",
      "Epoch 6/100\n",
      "60000/60000 [==============================] - 3s 49us/step - loss: 7.1770 - acc: 0.5494\n",
      "Epoch 7/100\n",
      "60000/60000 [==============================] - 3s 50us/step - loss: 6.7745 - acc: 0.5739\n",
      "Epoch 8/100\n",
      "60000/60000 [==============================] - 3s 49us/step - loss: 6.6201 - acc: 0.5843\n",
      "Epoch 9/100\n",
      "60000/60000 [==============================] - 3s 50us/step - loss: 6.5019 - acc: 0.5921\n",
      "Epoch 10/100\n",
      "60000/60000 [==============================] - 3s 50us/step - loss: 6.3200 - acc: 0.6035\n",
      "Epoch 11/100\n",
      "60000/60000 [==============================] - 3s 50us/step - loss: 6.2870 - acc: 0.6048\n",
      "Epoch 12/100\n",
      "60000/60000 [==============================] - 3s 50us/step - loss: 6.1998 - acc: 0.6105\n",
      "Epoch 13/100\n",
      "60000/60000 [==============================] - 3s 49us/step - loss: 6.1412 - acc: 0.6136\n",
      "Epoch 14/100\n",
      "60000/60000 [==============================] - 3s 50us/step - loss: 5.5784 - acc: 0.6464\n",
      "Epoch 15/100\n",
      "60000/60000 [==============================] - 3s 50us/step - loss: 4.6920 - acc: 0.7015\n",
      "Epoch 16/100\n",
      "60000/60000 [==============================] - 3s 50us/step - loss: 4.6097 - acc: 0.7044\n",
      "Epoch 17/100\n",
      "60000/60000 [==============================] - 3s 50us/step - loss: 4.4922 - acc: 0.7082\n",
      "Epoch 18/100\n",
      "60000/60000 [==============================] - 3s 49us/step - loss: 4.0062 - acc: 0.7132\n",
      "Epoch 19/100\n",
      "60000/60000 [==============================] - 3s 50us/step - loss: 2.4311 - acc: 0.7049\n",
      "Epoch 20/100\n",
      "60000/60000 [==============================] - 3s 50us/step - loss: 0.8818 - acc: 0.7644\n",
      "Epoch 21/100\n",
      "60000/60000 [==============================] - 3s 49us/step - loss: 0.6952 - acc: 0.7798\n",
      "Epoch 22/100\n",
      "60000/60000 [==============================] - 3s 50us/step - loss: 0.6239 - acc: 0.7953\n",
      "Epoch 23/100\n",
      "60000/60000 [==============================] - 3s 50us/step - loss: 0.5884 - acc: 0.8032\n",
      "Epoch 24/100\n",
      "60000/60000 [==============================] - 3s 49us/step - loss: 0.5631 - acc: 0.8077\n",
      "Epoch 25/100\n",
      "60000/60000 [==============================] - 3s 49us/step - loss: 0.5372 - acc: 0.8133\n",
      "Epoch 26/100\n",
      "60000/60000 [==============================] - 3s 50us/step - loss: 0.5308 - acc: 0.8160\n",
      "Epoch 27/100\n",
      "60000/60000 [==============================] - 3s 50us/step - loss: 0.5115 - acc: 0.8212\n",
      "Epoch 28/100\n",
      "60000/60000 [==============================] - 3s 50us/step - loss: 0.4989 - acc: 0.8248\n",
      "Epoch 29/100\n",
      "60000/60000 [==============================] - 3s 49us/step - loss: 0.4956 - acc: 0.8243\n",
      "Epoch 30/100\n",
      "60000/60000 [==============================] - 3s 49us/step - loss: 0.4811 - acc: 0.8290\n",
      "Epoch 31/100\n",
      "60000/60000 [==============================] - 3s 50us/step - loss: 0.4770 - acc: 0.8303\n",
      "Epoch 32/100\n",
      "60000/60000 [==============================] - 3s 50us/step - loss: 0.4674 - acc: 0.8338\n",
      "Epoch 33/100\n",
      "60000/60000 [==============================] - 3s 50us/step - loss: 0.4625 - acc: 0.8359\n",
      "Epoch 34/100\n",
      "60000/60000 [==============================] - 3s 50us/step - loss: 0.4554 - acc: 0.8371\n",
      "Epoch 35/100\n",
      "60000/60000 [==============================] - 3s 49us/step - loss: 0.4480 - acc: 0.8394\n",
      "Epoch 36/100\n",
      "60000/60000 [==============================] - 3s 50us/step - loss: 0.4437 - acc: 0.8385\n",
      "Epoch 37/100\n",
      "60000/60000 [==============================] - 3s 50us/step - loss: 0.4400 - acc: 0.8407\n",
      "Epoch 38/100\n",
      "60000/60000 [==============================] - 3s 50us/step - loss: 0.4357 - acc: 0.8416\n",
      "Epoch 39/100\n",
      "60000/60000 [==============================] - 3s 50us/step - loss: 0.4306 - acc: 0.8438\n",
      "Epoch 40/100\n",
      "60000/60000 [==============================] - 3s 50us/step - loss: 0.4237 - acc: 0.8456\n",
      "Epoch 41/100\n",
      "60000/60000 [==============================] - 3s 50us/step - loss: 0.4210 - acc: 0.8476\n",
      "Epoch 42/100\n",
      "60000/60000 [==============================] - 3s 50us/step - loss: 0.4218 - acc: 0.8475\n",
      "Epoch 43/100\n",
      "60000/60000 [==============================] - 3s 50us/step - loss: 0.4156 - acc: 0.8499\n",
      "Epoch 44/100\n",
      "60000/60000 [==============================] - 3s 50us/step - loss: 0.4135 - acc: 0.8511\n",
      "Epoch 45/100\n",
      "60000/60000 [==============================] - 3s 50us/step - loss: 0.4092 - acc: 0.8514: 2\n",
      "Epoch 46/100\n",
      "60000/60000 [==============================] - 3s 50us/step - loss: 0.4081 - acc: 0.8498\n",
      "Epoch 47/100\n",
      "60000/60000 [==============================] - 3s 50us/step - loss: 0.4055 - acc: 0.8517: 1s - l\n",
      "Epoch 48/100\n",
      "60000/60000 [==============================] - 3s 50us/step - loss: 0.4021 - acc: 0.8537\n",
      "Epoch 49/100\n",
      "60000/60000 [==============================] - 3s 50us/step - loss: 0.4000 - acc: 0.8533: 0s - loss: 0.3979 \n",
      "Epoch 50/100\n",
      "60000/60000 [==============================] - 3s 50us/step - loss: 0.3959 - acc: 0.8559\n",
      "Epoch 51/100\n",
      "60000/60000 [==============================] - 3s 50us/step - loss: 0.3957 - acc: 0.8573\n",
      "Epoch 52/100\n",
      "60000/60000 [==============================] - 3s 50us/step - loss: 0.3921 - acc: 0.8559\n",
      "Epoch 53/100\n",
      "60000/60000 [==============================] - 3s 50us/step - loss: 0.3903 - acc: 0.8582\n",
      "Epoch 54/100\n",
      "60000/60000 [==============================] - 3s 51us/step - loss: 0.3884 - acc: 0.8578\n",
      "Epoch 55/100\n",
      "60000/60000 [==============================] - 3s 51us/step - loss: 0.3825 - acc: 0.8602\n",
      "Epoch 56/100\n",
      "60000/60000 [==============================] - 3s 50us/step - loss: 0.3820 - acc: 0.8585\n",
      "Epoch 57/100\n",
      "60000/60000 [==============================] - 3s 50us/step - loss: 0.3817 - acc: 0.8604\n",
      "Epoch 58/100\n",
      "60000/60000 [==============================] - 3s 51us/step - loss: 0.3752 - acc: 0.8615\n",
      "Epoch 59/100\n",
      "60000/60000 [==============================] - 3s 50us/step - loss: 0.3711 - acc: 0.8634\n",
      "Epoch 60/100\n",
      "60000/60000 [==============================] - 3s 50us/step - loss: 0.3724 - acc: 0.8643\n",
      "Epoch 61/100\n",
      "60000/60000 [==============================] - 3s 51us/step - loss: 0.3720 - acc: 0.8626\n",
      "Epoch 62/100\n",
      "60000/60000 [==============================] - 3s 50us/step - loss: 0.3743 - acc: 0.8640\n",
      "Epoch 63/100\n",
      "60000/60000 [==============================] - 3s 50us/step - loss: 0.3695 - acc: 0.8648\n",
      "Epoch 64/100\n",
      "60000/60000 [==============================] - 3s 51us/step - loss: 0.3665 - acc: 0.8644\n",
      "Epoch 65/100\n",
      "60000/60000 [==============================] - 3s 50us/step - loss: 0.3645 - acc: 0.8645\n",
      "Epoch 66/100\n",
      "60000/60000 [==============================] - 3s 50us/step - loss: 0.3632 - acc: 0.8651\n",
      "Epoch 67/100\n",
      "60000/60000 [==============================] - 3s 50us/step - loss: 0.3607 - acc: 0.8669\n",
      "Epoch 68/100\n",
      "60000/60000 [==============================] - 3s 51us/step - loss: 0.3615 - acc: 0.8655\n",
      "Epoch 69/100\n",
      "60000/60000 [==============================] - 3s 51us/step - loss: 0.3574 - acc: 0.8682\n",
      "Epoch 70/100\n",
      "60000/60000 [==============================] - 3s 50us/step - loss: 0.3598 - acc: 0.8681\n",
      "Epoch 71/100\n",
      "60000/60000 [==============================] - 3s 50us/step - loss: 0.3554 - acc: 0.8683\n",
      "Epoch 72/100\n",
      "60000/60000 [==============================] - 3s 50us/step - loss: 0.3525 - acc: 0.8689\n",
      "Epoch 73/100\n",
      "60000/60000 [==============================] - 3s 50us/step - loss: 0.3532 - acc: 0.8694\n",
      "Epoch 74/100\n",
      "60000/60000 [==============================] - 3s 50us/step - loss: 0.3515 - acc: 0.8699\n",
      "Epoch 75/100\n",
      "60000/60000 [==============================] - 3s 50us/step - loss: 0.3480 - acc: 0.8716\n",
      "Epoch 76/100\n",
      "60000/60000 [==============================] - 3s 50us/step - loss: 0.3476 - acc: 0.8701\n",
      "Epoch 77/100\n",
      "60000/60000 [==============================] - 3s 50us/step - loss: 0.3451 - acc: 0.8713\n",
      "Epoch 78/100\n",
      "60000/60000 [==============================] - 3s 50us/step - loss: 0.3423 - acc: 0.8730\n",
      "Epoch 79/100\n",
      "60000/60000 [==============================] - 3s 50us/step - loss: 0.3450 - acc: 0.8726\n",
      "Epoch 80/100\n",
      "60000/60000 [==============================] - 3s 50us/step - loss: 0.3411 - acc: 0.8735\n",
      "Epoch 81/100\n"
     ]
    },
    {
     "name": "stdout",
     "output_type": "stream",
     "text": [
      "60000/60000 [==============================] - 3s 50us/step - loss: 0.3400 - acc: 0.8723\n",
      "Epoch 82/100\n",
      "60000/60000 [==============================] - 3s 50us/step - loss: 0.3385 - acc: 0.8738\n",
      "Epoch 83/100\n",
      "60000/60000 [==============================] - 3s 50us/step - loss: 0.3403 - acc: 0.8733\n",
      "Epoch 84/100\n",
      "60000/60000 [==============================] - 3s 50us/step - loss: 0.3334 - acc: 0.8760\n",
      "Epoch 85/100\n",
      "60000/60000 [==============================] - 3s 50us/step - loss: 0.3361 - acc: 0.8750\n",
      "Epoch 86/100\n",
      "60000/60000 [==============================] - 3s 50us/step - loss: 0.3355 - acc: 0.8765\n",
      "Epoch 87/100\n",
      "60000/60000 [==============================] - 3s 50us/step - loss: 0.3306 - acc: 0.8759\n",
      "Epoch 88/100\n",
      "44000/60000 [=====================>........] - ETA: 0s - loss: 0.3335 - acc: 0.8750"
     ]
    }
   ],
   "source": [
    "batch_size = 1000\n",
    "epochs = 100\n",
    "model.fit(x = x_train, y = y_train, batch_size = batch_size, epochs = epochs)"
   ]
  },
  {
   "cell_type": "markdown",
   "metadata": {},
   "source": [
    "## Question 3 (20 points) \n",
    "\n",
    "Evaluate the performance of your network with the test data. \n",
    "Visualize the performance using appropriate metrics and graphs (eg. confusion matrix). \n",
    "Comment on your per class performance and how it could be better."
   ]
  },
  {
   "cell_type": "code",
   "execution_count": null,
   "metadata": {},
   "outputs": [],
   "source": [
    "# This function is provided for you to display the confusion matrix.\n",
    "# For more information about the confusion matrix, you can read at\n",
    "# https://en.wikipedia.org/wiki/Confusion_matrix\n",
    "def plot_confusion_matrix(cm, classes, normalize=False, title='Confusion matrix', cmap=plt.cm.Blues):\n",
    "    \"\"\"\n",
    "        This function prints and plots the confusion matrix.\n",
    "        \n",
    "        cm: confusion matrix, default to be np.int32 data type\n",
    "        classes: a list of the class labels or class names\n",
    "        normalize: normalize the matrix so that each row amounts to one\n",
    "        cmap: color map\n",
    "    \"\"\"\n",
    "    if normalize:\n",
    "        cm = cm.astype('float') / cm.sum(axis=1)[:, np.newaxis]\n",
    "        print(\"Normalized confusion matrix\")\n",
    "    else:\n",
    "        print('Confusion matrix, without normalization')\n",
    "    print(cm)\n",
    "\n",
    "    plt.imshow(cm, interpolation='nearest', cmap=cmap)\n",
    "    plt.title(title)\n",
    "    plt.colorbar()\n",
    "    tick_marks = np.arange(len(classes))\n",
    "    plt.xticks(tick_marks, classes, rotation=45)\n",
    "    plt.yticks(tick_marks, classes)\n",
    "\n",
    "    fmt = '.2f' if normalize else 'd'\n",
    "    thresh = cm.max() / 2.\n",
    "    cm = cm.astype(int)\n",
    "    for i, j in itertools.product(range(cm.shape[0]), range(cm.shape[1])):\n",
    "        plt.text(j, i, format(cm[i, j], fmt),\n",
    "                 horizontalalignment=\"center\",\n",
    "                 color=\"white\" if cm[i, j] > thresh else \"black\")\n",
    "    plt.ylabel('True label')\n",
    "    plt.xlabel('Predicted label')\n",
    "    plt.tight_layout()"
   ]
  },
  {
   "cell_type": "markdown",
   "metadata": {},
   "source": [
    "### 3.1 Evaluate the classification accuracy on the test set (10 points)"
   ]
  },
  {
   "cell_type": "code",
   "execution_count": null,
   "metadata": {},
   "outputs": [],
   "source": [
    "loss, metric = model.evaluate(x = x_test, y = y_test)\n",
    "print(loss)\n",
    "print(metric)"
   ]
  },
  {
   "cell_type": "markdown",
   "metadata": {},
   "source": [
    "### 3.2 Calculate and plot the confusion matrix (10 points)"
   ]
  },
  {
   "cell_type": "code",
   "execution_count": null,
   "metadata": {},
   "outputs": [],
   "source": [
    "predictions = model.predict(x_test)\n",
    "matrix = np.zeros((10, 10))\n",
    "\n",
    "for i in range(len(predictions)):\n",
    "    maxp = np.argmax(predictions[i])\n",
    "    actual = np.argmax(y_test[i])\n",
    "    matrix[maxp][actual] += 1\n",
    "    \n",
    "plot_confusion_matrix(matrix, list(labels.values()))"
   ]
  },
  {
   "cell_type": "markdown",
   "metadata": {},
   "source": [
    "## Question 4 (20 points)\n",
    "Take two photos, one of your clothes or shoes that belongs to one of 10 classes, the other that does not belong to any class.\n",
    "\n",
    "Use either Python or other software (Photoshop, Gimp, or any image editer) to convert the photos into grayscale, crop the region of interest and reshape into the size of 28x28.\n",
    "\n",
    "### 4.1 Load and visualise your own images (6 points)"
   ]
  },
  {
   "cell_type": "code",
   "execution_count": null,
   "metadata": {},
   "outputs": [],
   "source": [
    "#airforce = tf.image.decode_jpeg('airforce.jpg')\n",
    "#rayban = tf.image.decode_jpeg('rayban.jpg')\n",
    "#resized_airforce = tf.image.resize_images(airforce, [28, 28])\n",
    "#resized_rayban = tf.image.resize_images(rayban, [28, 28])\n",
    "#gray_airforce = tf.image.rgb_to_grayscale(resized_airforce)\n",
    "#gray_rayban = tf.image.rgb_to_grayscale(resized_rayban)\n",
    "\n",
    "#sess = tf.InteractiveSession()\n",
    "#gray_airforce.eval()"
   ]
  },
  {
   "cell_type": "markdown",
   "metadata": {},
   "source": [
    "### 4.2 Test your network on the two images and show the classification results (10 points)"
   ]
  },
  {
   "cell_type": "code",
   "execution_count": null,
   "metadata": {},
   "outputs": [],
   "source": []
  },
  {
   "cell_type": "markdown",
   "metadata": {},
   "source": [
    "### 4.3 Discuss the classification results and provide one method to improve real life performance of the network (4 points)"
   ]
  },
  {
   "cell_type": "code",
   "execution_count": null,
   "metadata": {},
   "outputs": [],
   "source": []
  },
  {
   "cell_type": "markdown",
   "metadata": {},
   "source": [
    "## 5. Survey\n",
    "How long did the coursework take you to solve? "
   ]
  },
  {
   "cell_type": "markdown",
   "metadata": {},
   "source": []
  },
  {
   "cell_type": "code",
   "execution_count": null,
   "metadata": {},
   "outputs": [],
   "source": []
  }
 ],
 "metadata": {
  "kernelspec": {
   "display_name": "Python 3",
   "language": "python",
   "name": "python3"
  },
  "language_info": {
   "codemirror_mode": {
    "name": "ipython",
    "version": 3
   },
   "file_extension": ".py",
   "mimetype": "text/x-python",
   "name": "python",
   "nbconvert_exporter": "python",
   "pygments_lexer": "ipython3",
   "version": "3.6.6"
  }
 },
 "nbformat": 4,
 "nbformat_minor": 2
}
